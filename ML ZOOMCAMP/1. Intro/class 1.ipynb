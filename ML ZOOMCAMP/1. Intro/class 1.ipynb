{
 "cells": [
  {
   "cell_type": "markdown",
   "id": "bf16002e-570a-4c21-a5f2-328e162ee6e8",
   "metadata": {},
   "source": [
    "# Homework 1: Introduction to Machine Learning for Machine Learning Zoomcamp 2025"
   ]
  },
  {
   "cell_type": "markdown",
   "id": "541bd684-1b9f-4fba-a9d4-e5bbab84be8e",
   "metadata": {},
   "source": [
    "### Q1. Pandas version\n",
    "What's the version of Pandas that you installed?\n",
    "\n",
    "You can get the version information using the __version__ field:"
   ]
  },
  {
   "cell_type": "code",
   "execution_count": 25,
   "id": "a58c584f-506c-46b5-a427-f6bc63078a49",
   "metadata": {},
   "outputs": [],
   "source": [
    "import pandas as pd\n",
    "import numpy as np"
   ]
  },
  {
   "cell_type": "code",
   "execution_count": 3,
   "id": "7518a8af-c215-4c0c-9070-32e45d5be575",
   "metadata": {},
   "outputs": [
    {
     "data": {
      "text/plain": [
       "'2.2.3'"
      ]
     },
     "execution_count": 3,
     "metadata": {},
     "output_type": "execute_result"
    }
   ],
   "source": [
    "pd.__version__"
   ]
  },
  {
   "cell_type": "code",
   "execution_count": 4,
   "id": "ab1b2638-8905-4e21-a2eb-1308c00e9942",
   "metadata": {},
   "outputs": [
    {
     "data": {
      "text/html": [
       "<div>\n",
       "<style scoped>\n",
       "    .dataframe tbody tr th:only-of-type {\n",
       "        vertical-align: middle;\n",
       "    }\n",
       "\n",
       "    .dataframe tbody tr th {\n",
       "        vertical-align: top;\n",
       "    }\n",
       "\n",
       "    .dataframe thead th {\n",
       "        text-align: right;\n",
       "    }\n",
       "</style>\n",
       "<table border=\"1\" class=\"dataframe\">\n",
       "  <thead>\n",
       "    <tr style=\"text-align: right;\">\n",
       "      <th></th>\n",
       "      <th>engine_displacement</th>\n",
       "      <th>num_cylinders</th>\n",
       "      <th>horsepower</th>\n",
       "      <th>vehicle_weight</th>\n",
       "      <th>acceleration</th>\n",
       "      <th>model_year</th>\n",
       "      <th>origin</th>\n",
       "      <th>fuel_type</th>\n",
       "      <th>drivetrain</th>\n",
       "      <th>num_doors</th>\n",
       "      <th>fuel_efficiency_mpg</th>\n",
       "    </tr>\n",
       "  </thead>\n",
       "  <tbody>\n",
       "    <tr>\n",
       "      <th>0</th>\n",
       "      <td>170</td>\n",
       "      <td>3.0</td>\n",
       "      <td>159.0</td>\n",
       "      <td>3413.433759</td>\n",
       "      <td>17.7</td>\n",
       "      <td>2003</td>\n",
       "      <td>Europe</td>\n",
       "      <td>Gasoline</td>\n",
       "      <td>All-wheel drive</td>\n",
       "      <td>0.0</td>\n",
       "      <td>13.231729</td>\n",
       "    </tr>\n",
       "    <tr>\n",
       "      <th>1</th>\n",
       "      <td>130</td>\n",
       "      <td>5.0</td>\n",
       "      <td>97.0</td>\n",
       "      <td>3149.664934</td>\n",
       "      <td>17.8</td>\n",
       "      <td>2007</td>\n",
       "      <td>USA</td>\n",
       "      <td>Gasoline</td>\n",
       "      <td>Front-wheel drive</td>\n",
       "      <td>0.0</td>\n",
       "      <td>13.688217</td>\n",
       "    </tr>\n",
       "    <tr>\n",
       "      <th>2</th>\n",
       "      <td>170</td>\n",
       "      <td>NaN</td>\n",
       "      <td>78.0</td>\n",
       "      <td>3079.038997</td>\n",
       "      <td>15.1</td>\n",
       "      <td>2018</td>\n",
       "      <td>Europe</td>\n",
       "      <td>Gasoline</td>\n",
       "      <td>Front-wheel drive</td>\n",
       "      <td>0.0</td>\n",
       "      <td>14.246341</td>\n",
       "    </tr>\n",
       "    <tr>\n",
       "      <th>3</th>\n",
       "      <td>220</td>\n",
       "      <td>4.0</td>\n",
       "      <td>NaN</td>\n",
       "      <td>2542.392402</td>\n",
       "      <td>20.2</td>\n",
       "      <td>2009</td>\n",
       "      <td>USA</td>\n",
       "      <td>Diesel</td>\n",
       "      <td>All-wheel drive</td>\n",
       "      <td>2.0</td>\n",
       "      <td>16.912736</td>\n",
       "    </tr>\n",
       "    <tr>\n",
       "      <th>4</th>\n",
       "      <td>210</td>\n",
       "      <td>1.0</td>\n",
       "      <td>140.0</td>\n",
       "      <td>3460.870990</td>\n",
       "      <td>14.4</td>\n",
       "      <td>2009</td>\n",
       "      <td>Europe</td>\n",
       "      <td>Gasoline</td>\n",
       "      <td>All-wheel drive</td>\n",
       "      <td>2.0</td>\n",
       "      <td>12.488369</td>\n",
       "    </tr>\n",
       "  </tbody>\n",
       "</table>\n",
       "</div>"
      ],
      "text/plain": [
       "   engine_displacement  num_cylinders  horsepower  vehicle_weight  \\\n",
       "0                  170            3.0       159.0     3413.433759   \n",
       "1                  130            5.0        97.0     3149.664934   \n",
       "2                  170            NaN        78.0     3079.038997   \n",
       "3                  220            4.0         NaN     2542.392402   \n",
       "4                  210            1.0       140.0     3460.870990   \n",
       "\n",
       "   acceleration  model_year  origin fuel_type         drivetrain  num_doors  \\\n",
       "0          17.7        2003  Europe  Gasoline    All-wheel drive        0.0   \n",
       "1          17.8        2007     USA  Gasoline  Front-wheel drive        0.0   \n",
       "2          15.1        2018  Europe  Gasoline  Front-wheel drive        0.0   \n",
       "3          20.2        2009     USA    Diesel    All-wheel drive        2.0   \n",
       "4          14.4        2009  Europe  Gasoline    All-wheel drive        2.0   \n",
       "\n",
       "   fuel_efficiency_mpg  \n",
       "0            13.231729  \n",
       "1            13.688217  \n",
       "2            14.246341  \n",
       "3            16.912736  \n",
       "4            12.488369  "
      ]
     },
     "execution_count": 4,
     "metadata": {},
     "output_type": "execute_result"
    }
   ],
   "source": [
    "df = pd.read_csv('car_fuel_efficiency.csv')\n",
    "df.head()"
   ]
  },
  {
   "cell_type": "markdown",
   "id": "1ca67a5b-b2dc-45c9-a5a8-617b5afcb9a2",
   "metadata": {},
   "source": [
    "### Q2. Records count\n",
    "How many records are in the dataset?"
   ]
  },
  {
   "cell_type": "code",
   "execution_count": 5,
   "id": "1d6761a4-f85e-4a00-b8b8-d5fbbbb9b277",
   "metadata": {},
   "outputs": [
    {
     "data": {
      "text/plain": [
       "(9704, 11)"
      ]
     },
     "execution_count": 5,
     "metadata": {},
     "output_type": "execute_result"
    }
   ],
   "source": [
    "df.shape"
   ]
  },
  {
   "cell_type": "markdown",
   "id": "fa01bb74-3d7d-4dd8-8347-bd7ae756bd16",
   "metadata": {},
   "source": [
    "### Q3. Fuel types\n",
    "How many fuel types are presented in the dataset?"
   ]
  },
  {
   "cell_type": "code",
   "execution_count": 6,
   "id": "8b5983c9-35f3-4d81-9316-a7b07ec4ce4c",
   "metadata": {},
   "outputs": [
    {
     "data": {
      "text/plain": [
       "array(['Gasoline', 'Diesel'], dtype=object)"
      ]
     },
     "execution_count": 6,
     "metadata": {},
     "output_type": "execute_result"
    }
   ],
   "source": [
    "df.fuel_type.unique()"
   ]
  },
  {
   "cell_type": "markdown",
   "id": "f35aaa3b-37ef-4974-a119-0035944816c3",
   "metadata": {},
   "source": [
    "### Q4. Missing values\n",
    "How many columns in the dataset have missing values?"
   ]
  },
  {
   "cell_type": "code",
   "execution_count": 8,
   "id": "c598e955-7697-4949-97cb-a4d7a87b4e65",
   "metadata": {},
   "outputs": [
    {
     "data": {
      "text/plain": [
       "acceleration           930\n",
       "horsepower             708\n",
       "num_doors              502\n",
       "num_cylinders          482\n",
       "engine_displacement      0\n",
       "model_year               0\n",
       "vehicle_weight           0\n",
       "origin                   0\n",
       "fuel_type                0\n",
       "drivetrain               0\n",
       "fuel_efficiency_mpg      0\n",
       "dtype: int64"
      ]
     },
     "execution_count": 8,
     "metadata": {},
     "output_type": "execute_result"
    }
   ],
   "source": [
    "df.isna().sum().sort_values(ascending=False)"
   ]
  },
  {
   "cell_type": "markdown",
   "id": "fe56b96f-614f-4762-a039-7a0e95fc5ba3",
   "metadata": {},
   "source": [
    "### Q5. Max fuel efficiency\n",
    "What's the maximum fuel efficiency of cars from Asia?"
   ]
  },
  {
   "cell_type": "code",
   "execution_count": 10,
   "id": "4dd71e3d-92b0-44e1-88b1-61c8e9882290",
   "metadata": {},
   "outputs": [],
   "source": [
    "asian_cars = df[df['origin'] == 'Asia']"
   ]
  },
  {
   "cell_type": "code",
   "execution_count": 12,
   "id": "ac188c20-d637-414c-8737-658e7cdb1adc",
   "metadata": {},
   "outputs": [
    {
     "data": {
      "text/plain": [
       "23.759122836520497"
      ]
     },
     "execution_count": 12,
     "metadata": {},
     "output_type": "execute_result"
    }
   ],
   "source": [
    "asian_cars.fuel_efficiency_mpg.max()"
   ]
  },
  {
   "cell_type": "markdown",
   "id": "55b7d7bc-4507-4116-8c18-bf63f6daf222",
   "metadata": {},
   "source": [
    "### Q6. Median value of horsepower\n",
    "- Find the median value of horsepower column in the dataset.\n",
    "- Next, calculate the most frequent value of the same horsepower column.\n",
    "- Use fillna method to fill the missing values in horsepower column with the most frequent value from the previous step.\n",
    "- Now, calculate the median value of horsepower once again.\n",
    "\n",
    "Has it changed?\n",
    "- Yes, it increased\n",
    "- Yes, it decreased\n",
    "- No"
   ]
  },
  {
   "cell_type": "code",
   "execution_count": 13,
   "id": "c6d322a7-934f-423e-a4c0-599a6f24f450",
   "metadata": {},
   "outputs": [
    {
     "name": "stdout",
     "output_type": "stream",
     "text": [
      "1. Initial median of horsepower: 149.0\n"
     ]
    }
   ],
   "source": [
    "# Step 1: Calculate initial median (ignoring NaN)\n",
    "initial_median = df['horsepower'].median()\n",
    "print(f\"1. Initial median of horsepower: {initial_median}\")"
   ]
  },
  {
   "cell_type": "code",
   "execution_count": 14,
   "id": "b6468204-c8ea-4f45-a579-685b2880b15f",
   "metadata": {},
   "outputs": [
    {
     "name": "stdout",
     "output_type": "stream",
     "text": [
      "2. Most frequent value (mode) of horsepower: 152.0\n"
     ]
    }
   ],
   "source": [
    "# Step 2: Calculate most frequent value (mode)\n",
    "mode_values = df['horsepower'].mode()\n",
    "most_frequent = mode_values[0]  # Takes first value in case of tie\n",
    "print(f\"2. Most frequent value (mode) of horsepower: {most_frequent}\")"
   ]
  },
  {
   "cell_type": "code",
   "execution_count": 15,
   "id": "2c5ca37c-3096-4510-af0e-7e23b7f18d12",
   "metadata": {},
   "outputs": [],
   "source": [
    "# Step 3: Fill NaN values with the most frequent value\n",
    "df_filled = df.copy()\n",
    "df_filled['horsepower'] = df_filled['horsepower'].fillna(most_frequent)"
   ]
  },
  {
   "cell_type": "code",
   "execution_count": 16,
   "id": "18f44697-a131-41a1-8192-bca84cf025c9",
   "metadata": {},
   "outputs": [
    {
     "name": "stdout",
     "output_type": "stream",
     "text": [
      "3. New median of horsepower after filling: 152.0\n"
     ]
    }
   ],
   "source": [
    "# Step 4: Calculate new median after filling\n",
    "new_median = df_filled['horsepower'].median()\n",
    "print(f\"3. New median of horsepower after filling: {new_median}\")"
   ]
  },
  {
   "cell_type": "markdown",
   "id": "3f6c7da3-3d8a-4dbd-960b-c99534081ae8",
   "metadata": {},
   "source": [
    "### Q7. Sum of weights\n",
    "- Select all the cars from Asia\n",
    "- Select only columns vehicle_weight and model_year\n",
    "- Select the first 7 values\n",
    "- Get the underlying NumPy array. Let's call it X.\n",
    "- Compute matrix-matrix multiplication between the transpose of X and X. To get the transpose, use X.T. Let's call the result XTX.\n",
    "- Invert XTX.\n",
    "- Create an array y with values [1100, 1300, 800, 900, 1000, 1100, 1200].\n",
    "- Multiply the inverse of XTX with the transpose of X, and then multiply the result by y. Call the result w.\n",
    "- What's the sum of all the elements of the result?"
   ]
  },
  {
   "cell_type": "code",
   "execution_count": 18,
   "id": "92a26197-f1c4-4fa6-9885-7b4148f83562",
   "metadata": {},
   "outputs": [
    {
     "name": "stdout",
     "output_type": "stream",
     "text": [
      "Asian cars:\n",
      "      vehicle_weight  model_year\n",
      "8        2714.219310        2016\n",
      "12       2783.868974        2010\n",
      "14       3582.687368        2007\n",
      "20       2231.808142        2011\n",
      "21       2659.431451        2016\n",
      "...              ...         ...\n",
      "9688     3948.404625        2018\n",
      "9692     3680.341381        2016\n",
      "9693     2545.070139        2012\n",
      "9698     3107.427820        2005\n",
      "9703     2908.043477        2005\n",
      "\n",
      "[3247 rows x 2 columns]\n",
      "\n"
     ]
    }
   ],
   "source": [
    "# Step 1: Select all cars from Asia\n",
    "asian_cars = df[df['origin'] == 'Asia']\n",
    "print(\"Asian cars:\")\n",
    "print(asian_cars[['vehicle_weight', 'model_year']])\n",
    "print()"
   ]
  },
  {
   "cell_type": "code",
   "execution_count": 19,
   "id": "4f73d64e-7a6b-4791-a305-84f188eff707",
   "metadata": {},
   "outputs": [],
   "source": [
    "# Step 2: Select only columns vehicle_weight and model_year\n",
    "selected_data = asian_cars[['vehicle_weight', 'model_year']]"
   ]
  },
  {
   "cell_type": "code",
   "execution_count": 20,
   "id": "075c1ba6-0caa-4f0e-a33d-12222578bd15",
   "metadata": {},
   "outputs": [
    {
     "name": "stdout",
     "output_type": "stream",
     "text": [
      "First 7 values:\n",
      "    vehicle_weight  model_year\n",
      "8      2714.219310        2016\n",
      "12     2783.868974        2010\n",
      "14     3582.687368        2007\n",
      "20     2231.808142        2011\n",
      "21     2659.431451        2016\n",
      "34     2844.227534        2014\n",
      "38     3761.994038        2019\n",
      "\n"
     ]
    }
   ],
   "source": [
    "# Step 3: Select the first 7 values (we already have them)\n",
    "first_7 = selected_data.head(7)\n",
    "\n",
    "print(\"First 7 values:\")\n",
    "print(first_7)\n",
    "print()"
   ]
  },
  {
   "cell_type": "code",
   "execution_count": 21,
   "id": "c5c25c49-dea8-412d-9817-50e608b2bb34",
   "metadata": {},
   "outputs": [
    {
     "name": "stdout",
     "output_type": "stream",
     "text": [
      "Matrix X:\n",
      "[[2714.21930965 2016.        ]\n",
      " [2783.86897424 2010.        ]\n",
      " [3582.68736772 2007.        ]\n",
      " [2231.8081416  2011.        ]\n",
      " [2659.43145076 2016.        ]\n",
      " [2844.22753389 2014.        ]\n",
      " [3761.99403819 2019.        ]]\n",
      "Shape: (7, 2)\n",
      "\n"
     ]
    }
   ],
   "source": [
    "# Step 4: Get the underlying NumPy array X\n",
    "X = first_7.values\n",
    "print(\"Matrix X:\")\n",
    "print(X)\n",
    "print(f\"Shape: {X.shape}\")\n",
    "print()"
   ]
  },
  {
   "cell_type": "code",
   "execution_count": 22,
   "id": "d4712e80-db0c-417b-8ae5-72476b05de02",
   "metadata": {},
   "outputs": [
    {
     "name": "stdout",
     "output_type": "stream",
     "text": [
      "Matrix XTX:\n",
      "[[62248334.33150762 41431216.5073268 ]\n",
      " [41431216.5073268  28373339.        ]]\n",
      "Shape: (2, 2)\n",
      "\n"
     ]
    }
   ],
   "source": [
    "# Step 5: Compute XTX = X.T * X\n",
    "XTX = X.T @ X\n",
    "print(\"Matrix XTX:\")\n",
    "print(XTX)\n",
    "print(f\"Shape: {XTX.shape}\")\n",
    "print()"
   ]
  },
  {
   "cell_type": "code",
   "execution_count": 26,
   "id": "de34d189-c0fd-426b-9028-1b8b353967d2",
   "metadata": {},
   "outputs": [
    {
     "name": "stdout",
     "output_type": "stream",
     "text": [
      "Inverse of XTX:\n",
      "[[ 5.71497081e-07 -8.34509443e-07]\n",
      " [-8.34509443e-07  1.25380877e-06]]\n",
      "Shape: (2, 2)\n",
      "\n"
     ]
    }
   ],
   "source": [
    "# Step 6: Invert XTX\n",
    "try:\n",
    "    XTX_inv = np.linalg.inv(XTX)\n",
    "    print(\"Inverse of XTX:\")\n",
    "    print(XTX_inv)\n",
    "    print(f\"Shape: {XTX_inv.shape}\")\n",
    "except np.linalg.LinAlgError:\n",
    "    print(\"Matrix is singular, cannot invert\")\n",
    "    XTX_inv = np.linalg.pinv(XTX)  # Use pseudo-inverse if regular inverse fails\n",
    "    print(\"Using pseudo-inverse:\")\n",
    "    print(XTX_inv)\n",
    "print()"
   ]
  },
  {
   "cell_type": "code",
   "execution_count": 27,
   "id": "06f03309-817a-4676-9fd4-e3d7ec8a0c90",
   "metadata": {},
   "outputs": [
    {
     "name": "stdout",
     "output_type": "stream",
     "text": [
      "Array y:\n",
      "[1100 1300  800  900 1000 1100 1200]\n",
      "Shape: (7,)\n",
      "\n"
     ]
    }
   ],
   "source": [
    "# Step 7: Create array y\n",
    "y = np.array([1100, 1300, 800, 900, 1000, 1100, 1200])\n",
    "print(\"Array y:\")\n",
    "print(y)\n",
    "print(f\"Shape: {y.shape}\")\n",
    "print()"
   ]
  },
  {
   "cell_type": "code",
   "execution_count": 28,
   "id": "320840f3-b071-4acb-8b5d-17a9b5cb2f45",
   "metadata": {},
   "outputs": [
    {
     "name": "stdout",
     "output_type": "stream",
     "text": [
      "Matrix X.T:\n",
      "[[2714.21930965 2783.86897424 3582.68736772 2231.8081416  2659.43145076\n",
      "  2844.22753389 3761.99403819]\n",
      " [2016.         2010.         2007.         2011.         2016.\n",
      "  2014.         2019.        ]]\n",
      "Shape: (2, 7)\n",
      "\n"
     ]
    }
   ],
   "source": [
    "# Step 8: Compute w = (XTX)^(-1) * XT * y\n",
    "# w = XTX_inv @ X.T @ y\n",
    "XT = X.T\n",
    "print(\"Matrix X.T:\")\n",
    "print(XT)\n",
    "print(f\"Shape: {XT.shape}\")\n",
    "print()"
   ]
  },
  {
   "cell_type": "code",
   "execution_count": 29,
   "id": "5adc7244-e9f1-499b-8823-8ef97bf97f2b",
   "metadata": {},
   "outputs": [
    {
     "name": "stdout",
     "output_type": "stream",
     "text": [
      "XTX_inv @ X.T:\n",
      "[[-1.31202622e-04 -8.63909858e-05  3.72634923e-04 -4.02726650e-04\n",
      "  -1.62513724e-04 -5.52342829e-05  4.65094049e-04]\n",
      " [ 2.62636846e-04  1.96990690e-04 -4.73392228e-04  6.58944477e-04\n",
      "   3.08357831e-04  1.51636137e-04 -6.07979633e-04]]\n",
      "Shape: (2, 7)\n",
      "\n"
     ]
    }
   ],
   "source": [
    "# Multiply step by step\n",
    "step1 = XTX_inv @ XT\n",
    "print(\"XTX_inv @ X.T:\")\n",
    "print(step1)\n",
    "print(f\"Shape: {step1.shape}\")\n",
    "print()"
   ]
  },
  {
   "cell_type": "code",
   "execution_count": 30,
   "id": "8805b01b-66e7-4fc0-b7e9-37bbe424f4ae",
   "metadata": {},
   "outputs": [
    {
     "name": "stdout",
     "output_type": "stream",
     "text": [
      "Result w:\n",
      "[0.01386421 0.5049067 ]\n",
      "Shape: (2,)\n",
      "\n"
     ]
    }
   ],
   "source": [
    "w = step1 @ y\n",
    "print(\"Result w:\")\n",
    "print(w)\n",
    "print(f\"Shape: {w.shape}\")\n",
    "print()"
   ]
  },
  {
   "cell_type": "code",
   "execution_count": 31,
   "id": "b8655c44-b549-4d42-a5b7-71df5bf65aff",
   "metadata": {},
   "outputs": [
    {
     "name": "stdout",
     "output_type": "stream",
     "text": [
      "Sum of all elements of w: 0.5187709081074007\n"
     ]
    }
   ],
   "source": [
    "# Step 9: Sum of all elements of w\n",
    "sum_w = np.sum(w)\n",
    "print(f\"Sum of all elements of w: {sum_w}\")"
   ]
  },
  {
   "cell_type": "code",
   "execution_count": null,
   "id": "06baa716-dc4f-435f-86f4-019b55efb3e5",
   "metadata": {},
   "outputs": [],
   "source": []
  }
 ],
 "metadata": {
  "kernelspec": {
   "display_name": "Python 3 (ipykernel)",
   "language": "python",
   "name": "python3"
  },
  "language_info": {
   "codemirror_mode": {
    "name": "ipython",
    "version": 3
   },
   "file_extension": ".py",
   "mimetype": "text/x-python",
   "name": "python",
   "nbconvert_exporter": "python",
   "pygments_lexer": "ipython3",
   "version": "3.13.5"
  }
 },
 "nbformat": 4,
 "nbformat_minor": 5
}
