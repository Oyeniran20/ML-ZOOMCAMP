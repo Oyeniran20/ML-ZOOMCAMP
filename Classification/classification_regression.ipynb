{
 "cells": [
  {
   "cell_type": "code",
   "execution_count": 1,
   "id": "53bce455-cfd1-472c-bb0e-bd29cecb0543",
   "metadata": {},
   "outputs": [
    {
     "data": {
      "text/html": [
       "<div>\n",
       "<style scoped>\n",
       "    .dataframe tbody tr th:only-of-type {\n",
       "        vertical-align: middle;\n",
       "    }\n",
       "\n",
       "    .dataframe tbody tr th {\n",
       "        vertical-align: top;\n",
       "    }\n",
       "\n",
       "    .dataframe thead th {\n",
       "        text-align: right;\n",
       "    }\n",
       "</style>\n",
       "<table border=\"1\" class=\"dataframe\">\n",
       "  <thead>\n",
       "    <tr style=\"text-align: right;\">\n",
       "      <th></th>\n",
       "      <th>lead_source</th>\n",
       "      <th>industry</th>\n",
       "      <th>number_of_courses_viewed</th>\n",
       "      <th>annual_income</th>\n",
       "      <th>employment_status</th>\n",
       "      <th>location</th>\n",
       "      <th>interaction_count</th>\n",
       "      <th>lead_score</th>\n",
       "      <th>converted</th>\n",
       "    </tr>\n",
       "  </thead>\n",
       "  <tbody>\n",
       "    <tr>\n",
       "      <th>0</th>\n",
       "      <td>paid_ads</td>\n",
       "      <td>NaN</td>\n",
       "      <td>1</td>\n",
       "      <td>79450.0</td>\n",
       "      <td>unemployed</td>\n",
       "      <td>south_america</td>\n",
       "      <td>4</td>\n",
       "      <td>0.94</td>\n",
       "      <td>1</td>\n",
       "    </tr>\n",
       "    <tr>\n",
       "      <th>1</th>\n",
       "      <td>social_media</td>\n",
       "      <td>retail</td>\n",
       "      <td>1</td>\n",
       "      <td>46992.0</td>\n",
       "      <td>employed</td>\n",
       "      <td>south_america</td>\n",
       "      <td>1</td>\n",
       "      <td>0.80</td>\n",
       "      <td>0</td>\n",
       "    </tr>\n",
       "    <tr>\n",
       "      <th>2</th>\n",
       "      <td>events</td>\n",
       "      <td>healthcare</td>\n",
       "      <td>5</td>\n",
       "      <td>78796.0</td>\n",
       "      <td>unemployed</td>\n",
       "      <td>australia</td>\n",
       "      <td>3</td>\n",
       "      <td>0.69</td>\n",
       "      <td>1</td>\n",
       "    </tr>\n",
       "    <tr>\n",
       "      <th>3</th>\n",
       "      <td>paid_ads</td>\n",
       "      <td>retail</td>\n",
       "      <td>2</td>\n",
       "      <td>83843.0</td>\n",
       "      <td>NaN</td>\n",
       "      <td>australia</td>\n",
       "      <td>1</td>\n",
       "      <td>0.87</td>\n",
       "      <td>0</td>\n",
       "    </tr>\n",
       "    <tr>\n",
       "      <th>4</th>\n",
       "      <td>referral</td>\n",
       "      <td>education</td>\n",
       "      <td>3</td>\n",
       "      <td>85012.0</td>\n",
       "      <td>self_employed</td>\n",
       "      <td>europe</td>\n",
       "      <td>3</td>\n",
       "      <td>0.62</td>\n",
       "      <td>1</td>\n",
       "    </tr>\n",
       "  </tbody>\n",
       "</table>\n",
       "</div>"
      ],
      "text/plain": [
       "    lead_source    industry  number_of_courses_viewed  annual_income  \\\n",
       "0      paid_ads         NaN                         1        79450.0   \n",
       "1  social_media      retail                         1        46992.0   \n",
       "2        events  healthcare                         5        78796.0   \n",
       "3      paid_ads      retail                         2        83843.0   \n",
       "4      referral   education                         3        85012.0   \n",
       "\n",
       "  employment_status       location  interaction_count  lead_score  converted  \n",
       "0        unemployed  south_america                  4        0.94          1  \n",
       "1          employed  south_america                  1        0.80          0  \n",
       "2        unemployed      australia                  3        0.69          1  \n",
       "3               NaN      australia                  1        0.87          0  \n",
       "4     self_employed         europe                  3        0.62          1  "
      ]
     },
     "execution_count": 1,
     "metadata": {},
     "output_type": "execute_result"
    }
   ],
   "source": [
    "import pandas as pd\n",
    "import numpy as np\n",
    "from sklearn.model_selection import train_test_split\n",
    "from sklearn.linear_model import LogisticRegression\n",
    "from sklearn.metrics import accuracy_score, mutual_info_score\n",
    "from sklearn.preprocessing import OneHotEncoder\n",
    "import warnings\n",
    "warnings.filterwarnings('ignore')\n",
    "\n",
    "# Download the dataset\n",
    "url = \"https://raw.githubusercontent.com/alexeygrigorev/datasets/master/course_lead_scoring.csv\"\n",
    "df = pd.read_csv(url)\n",
    "\n",
    "df.head()"
   ]
  },
  {
   "cell_type": "markdown",
   "id": "86c583a2-14c9-4dc8-ae74-85df10ea020f",
   "metadata": {},
   "source": [
    "### Data preparation\n",
    "- Check if the missing values are presented in the features.\n",
    "- If there are missing values:\n",
    "    - For caterogiral features, replace them with 'NA'\n",
    "    - For numerical features, replace with with 0.0"
   ]
  },
  {
   "cell_type": "code",
   "execution_count": 2,
   "id": "f7b127ad-3a28-4afe-a436-9ed9ccd55f4c",
   "metadata": {},
   "outputs": [
    {
     "name": "stdout",
     "output_type": "stream",
     "text": [
      "Missing values before processing:\n",
      "annual_income               181\n",
      "industry                    134\n",
      "lead_source                 128\n",
      "employment_status           100\n",
      "location                     63\n",
      "number_of_courses_viewed      0\n",
      "interaction_count             0\n",
      "lead_score                    0\n",
      "converted                     0\n",
      "dtype: int64\n"
     ]
    }
   ],
   "source": [
    "# Check for missing values\n",
    "print(\"Missing values before processing:\")\n",
    "print(df.isnull().sum().sort_values(ascending=False))"
   ]
  },
  {
   "cell_type": "code",
   "execution_count": 3,
   "id": "10429b37-b085-47ed-a060-86e37fb9f5bf",
   "metadata": {},
   "outputs": [
    {
     "name": "stdout",
     "output_type": "stream",
     "text": [
      "\n",
      "Missing values after processing:\n",
      "lead_source                 0\n",
      "industry                    0\n",
      "number_of_courses_viewed    0\n",
      "annual_income               0\n",
      "employment_status           0\n",
      "location                    0\n",
      "interaction_count           0\n",
      "lead_score                  0\n",
      "converted                   0\n",
      "dtype: int64\n"
     ]
    }
   ],
   "source": [
    "# Separate categorical and numerical features\n",
    "categorical_features = ['lead_source', 'industry', 'employment_status', 'location']\n",
    "numerical_features = ['number_of_courses_viewed', 'annual_income', 'interaction_count', 'lead_score']\n",
    "\n",
    "# Fill missing values\n",
    "for col in categorical_features:\n",
    "    df[col] = df[col].fillna('NA')\n",
    "    \n",
    "for col in numerical_features:\n",
    "    df[col] = df[col].fillna(0.0)\n",
    "\n",
    "print(\"\\nMissing values after processing:\")\n",
    "print(df.isnull().sum())"
   ]
  },
  {
   "cell_type": "markdown",
   "id": "290e14ef-2e1a-4997-9564-1068c18b0c65",
   "metadata": {},
   "source": [
    "### Question 1\n",
    "What is the most frequent observation (mode) for the column industry?"
   ]
  },
  {
   "cell_type": "code",
   "execution_count": 4,
   "id": "03565490-7123-4326-aa4e-e1d22c18f3db",
   "metadata": {},
   "outputs": [
    {
     "name": "stdout",
     "output_type": "stream",
     "text": [
      "Q1 - Most frequent industry: retail\n"
     ]
    }
   ],
   "source": [
    "# Question 1\n",
    "industry_mode = df['industry'].mode()[0]\n",
    "print(f\"Q1 - Most frequent industry: {industry_mode}\")"
   ]
  },
  {
   "cell_type": "markdown",
   "id": "d1786510-3fab-4850-b107-b39a97f6b6fe",
   "metadata": {},
   "source": [
    "### Question 2: Correlation matrix"
   ]
  },
  {
   "cell_type": "code",
   "execution_count": 5,
   "id": "9163db75-e534-420e-a0f1-8e15e838a381",
   "metadata": {},
   "outputs": [
    {
     "name": "stdout",
     "output_type": "stream",
     "text": [
      "Correlation matrix:\n"
     ]
    },
    {
     "data": {
      "text/html": [
       "<div>\n",
       "<style scoped>\n",
       "    .dataframe tbody tr th:only-of-type {\n",
       "        vertical-align: middle;\n",
       "    }\n",
       "\n",
       "    .dataframe tbody tr th {\n",
       "        vertical-align: top;\n",
       "    }\n",
       "\n",
       "    .dataframe thead th {\n",
       "        text-align: right;\n",
       "    }\n",
       "</style>\n",
       "<table border=\"1\" class=\"dataframe\">\n",
       "  <thead>\n",
       "    <tr style=\"text-align: right;\">\n",
       "      <th></th>\n",
       "      <th>number_of_courses_viewed</th>\n",
       "      <th>annual_income</th>\n",
       "      <th>interaction_count</th>\n",
       "      <th>lead_score</th>\n",
       "    </tr>\n",
       "  </thead>\n",
       "  <tbody>\n",
       "    <tr>\n",
       "      <th>number_of_courses_viewed</th>\n",
       "      <td>1.000000</td>\n",
       "      <td>0.009770</td>\n",
       "      <td>-0.023565</td>\n",
       "      <td>-0.004879</td>\n",
       "    </tr>\n",
       "    <tr>\n",
       "      <th>annual_income</th>\n",
       "      <td>0.009770</td>\n",
       "      <td>1.000000</td>\n",
       "      <td>0.027036</td>\n",
       "      <td>0.015610</td>\n",
       "    </tr>\n",
       "    <tr>\n",
       "      <th>interaction_count</th>\n",
       "      <td>-0.023565</td>\n",
       "      <td>0.027036</td>\n",
       "      <td>1.000000</td>\n",
       "      <td>0.009888</td>\n",
       "    </tr>\n",
       "    <tr>\n",
       "      <th>lead_score</th>\n",
       "      <td>-0.004879</td>\n",
       "      <td>0.015610</td>\n",
       "      <td>0.009888</td>\n",
       "      <td>1.000000</td>\n",
       "    </tr>\n",
       "  </tbody>\n",
       "</table>\n",
       "</div>"
      ],
      "text/plain": [
       "                          number_of_courses_viewed  annual_income  \\\n",
       "number_of_courses_viewed                  1.000000       0.009770   \n",
       "annual_income                             0.009770       1.000000   \n",
       "interaction_count                        -0.023565       0.027036   \n",
       "lead_score                               -0.004879       0.015610   \n",
       "\n",
       "                          interaction_count  lead_score  \n",
       "number_of_courses_viewed          -0.023565   -0.004879  \n",
       "annual_income                      0.027036    0.015610  \n",
       "interaction_count                  1.000000    0.009888  \n",
       "lead_score                         0.009888    1.000000  "
      ]
     },
     "execution_count": 5,
     "metadata": {},
     "output_type": "execute_result"
    }
   ],
   "source": [
    "# Question 2\n",
    "correlation_matrix = df[numerical_features].corr()\n",
    "print(\"Correlation matrix:\")\n",
    "correlation_matrix"
   ]
  },
  {
   "cell_type": "code",
   "execution_count": 6,
   "id": "2d18e904-72de-4349-a754-b27f5f0c1ac8",
   "metadata": {},
   "outputs": [
    {
     "name": "stdout",
     "output_type": "stream",
     "text": [
      "\n",
      "Q2 - Pair with highest correlation: ('annual_income', 'interaction_count') with value 0.027\n"
     ]
    }
   ],
   "source": [
    "# Find the pair with highest absolute correlation (excluding diagonal)\n",
    "corr_pairs = {}\n",
    "for i in range(len(numerical_features)):\n",
    "    for j in range(i+1, len(numerical_features)):\n",
    "        feat1, feat2 = numerical_features[i], numerical_features[j]\n",
    "        corr = abs(correlation_matrix.loc[feat1, feat2])\n",
    "        corr_pairs[(feat1, feat2)] = corr\n",
    "\n",
    "max_pair = max(corr_pairs, key=corr_pairs.get)\n",
    "print(f\"\\nQ2 - Pair with highest correlation: {max_pair} with value {corr_pairs[max_pair]:.3f}\")"
   ]
  },
  {
   "cell_type": "markdown",
   "id": "98a5c939-dc67-447d-a53d-ef8d3582a88f",
   "metadata": {},
   "source": [
    "#### Split the data"
   ]
  },
  {
   "cell_type": "code",
   "execution_count": 7,
   "id": "dcd7b6e6-a3f2-4ed0-b324-3c65209d23fe",
   "metadata": {},
   "outputs": [
    {
     "name": "stdout",
     "output_type": "stream",
     "text": [
      "Training set: 877 samples\n",
      "Validation set: 292 samples\n",
      "Test set: 293 samples\n"
     ]
    }
   ],
   "source": [
    "# Split the data\n",
    "X = df.drop('converted', axis=1)\n",
    "y = df['converted']\n",
    "\n",
    "X_train, X_temp, y_train, y_temp = train_test_split(X, y, test_size=0.4, random_state=42)\n",
    "X_val, X_test, y_val, y_test = train_test_split(X_temp, y_temp, test_size=0.5, random_state=42)\n",
    "\n",
    "print(f\"Training set: {X_train.shape[0]} samples\")\n",
    "print(f\"Validation set: {X_val.shape[0]} samples\")\n",
    "print(f\"Test set: {X_test.shape[0]} samples\")"
   ]
  },
  {
   "cell_type": "markdown",
   "id": "93e67b90-1767-4c2d-a97c-10904a04d5a7",
   "metadata": {},
   "source": [
    "### Question 3: Mutual Information"
   ]
  },
  {
   "cell_type": "code",
   "execution_count": 8,
   "id": "cf7e98dc-f6a4-494a-9088-cd8e58ff0685",
   "metadata": {},
   "outputs": [
    {
     "name": "stdout",
     "output_type": "stream",
     "text": [
      "Q3 - Mutual Information scores:\n",
      "lead_source: 0.03\n",
      "industry: 0.02\n",
      "employment_status: 0.02\n",
      "location: 0.0\n"
     ]
    }
   ],
   "source": [
    "# Question 3\n",
    "def calculate_mi(series):\n",
    "    return mutual_info_score(series, y_train)\n",
    "\n",
    "mi_scores = {}\n",
    "for col in categorical_features:\n",
    "    mi = calculate_mi(X_train[col])\n",
    "    mi_scores[col] = round(mi, 2)\n",
    "\n",
    "print(\"Q3 - Mutual Information scores:\")\n",
    "for col, score in mi_scores.items():\n",
    "    print(f\"{col}: {score}\")"
   ]
  },
  {
   "cell_type": "code",
   "execution_count": 9,
   "id": "39fe67f0-127d-4d86-bca1-36e38d3d3b0c",
   "metadata": {},
   "outputs": [
    {
     "name": "stdout",
     "output_type": "stream",
     "text": [
      "Feature with highest MI: lead_source\n"
     ]
    }
   ],
   "source": [
    "max_mi_feature = max(mi_scores, key=mi_scores.get)\n",
    "print(f\"Feature with highest MI: {max_mi_feature}\")"
   ]
  },
  {
   "cell_type": "markdown",
   "id": "7ddf7333-eaf6-4572-afed-630771eb1ecd",
   "metadata": {},
   "source": [
    "### Question 4: Logistic Regression"
   ]
  },
  {
   "cell_type": "code",
   "execution_count": 10,
   "id": "2ca275f0-9467-4164-82b7-918f10edbfc6",
   "metadata": {},
   "outputs": [],
   "source": [
    "# Question 4\n",
    "# Prepare features with one-hot encoding\n",
    "def prepare_features(X_df):\n",
    "    X_encoded = X_df.copy()\n",
    "    \n",
    "    # One-hot encode categorical variables\n",
    "    for col in categorical_features:\n",
    "        dummies = pd.get_dummies(X_df[col], prefix=col)\n",
    "        X_encoded = pd.concat([X_encoded, dummies], axis=1)\n",
    "        X_encoded = X_encoded.drop(col, axis=1)\n",
    "    \n",
    "    return X_encoded\n",
    "\n",
    "X_train_encoded = prepare_features(X_train)\n",
    "X_val_encoded = prepare_features(X_val)\n",
    "\n",
    "# Train logistic regression\n",
    "model = LogisticRegression(solver='liblinear', C=1.0, max_iter=1000, random_state=42)\n",
    "model.fit(X_train_encoded, y_train)\n",
    "\n",
    "# Predict on validation set\n",
    "y_val_pred = model.predict(X_val_encoded)\n",
    "accuracy = accuracy_score(y_val, y_val_pred)\n",
    "accuracy_rounded = round(accuracy, 2)"
   ]
  },
  {
   "cell_type": "code",
   "execution_count": 11,
   "id": "fdcce00a-7f39-4aa6-bd0c-7e757628f087",
   "metadata": {},
   "outputs": [
    {
     "name": "stdout",
     "output_type": "stream",
     "text": [
      "Q4 - Validation accuracy: 0.7431506849315068\n",
      "Q4 - Rounded accuracy: 0.74\n"
     ]
    }
   ],
   "source": [
    "print(f\"Q4 - Validation accuracy: {accuracy}\")\n",
    "print(f\"Q4 - Rounded accuracy: {accuracy_rounded}\")"
   ]
  },
  {
   "cell_type": "markdown",
   "id": "37c61c84-895d-4a6c-abf2-8a322f9ee499",
   "metadata": {},
   "source": [
    "### Question 5: Feature Elimination"
   ]
  },
  {
   "cell_type": "code",
   "execution_count": 12,
   "id": "f04e21fd-6700-473e-9601-79be3340be7e",
   "metadata": {},
   "outputs": [
    {
     "name": "stdout",
     "output_type": "stream",
     "text": [
      "Original accuracy with all features: 0.7432\n"
     ]
    }
   ],
   "source": [
    "# Question 5: Feature Elimination - Fixed Version\n",
    "def prepare_features_selected(X_df, categorical_features_to_use):\n",
    "    X_encoded = X_df.copy()\n",
    "    \n",
    "    # One-hot encode only the categorical variables that exist in the dataframe\n",
    "    for col in categorical_features_to_use:\n",
    "        if col in X_df.columns:\n",
    "            dummies = pd.get_dummies(X_df[col], prefix=col)\n",
    "            X_encoded = pd.concat([X_encoded, dummies], axis=1)\n",
    "            X_encoded = X_encoded.drop(col, axis=1)\n",
    "    \n",
    "    return X_encoded\n",
    "\n",
    "# Get original accuracy with all features\n",
    "X_train_encoded = prepare_features_selected(X_train, categorical_features)\n",
    "X_val_encoded = prepare_features_selected(X_val, categorical_features)\n",
    "\n",
    "model = LogisticRegression(solver='liblinear', C=1.0, max_iter=1000, random_state=42)\n",
    "model.fit(X_train_encoded, y_train)\n",
    "y_val_pred = model.predict(X_val_encoded)\n",
    "original_accuracy = accuracy_score(y_val, y_val_pred)\n",
    "\n",
    "print(f\"Original accuracy with all features: {original_accuracy:.4f}\")"
   ]
  },
  {
   "cell_type": "code",
   "execution_count": 13,
   "id": "f5d48416-c7a4-41b5-855f-e86c25eed84d",
   "metadata": {},
   "outputs": [
    {
     "name": "stdout",
     "output_type": "stream",
     "text": [
      "Without 'industry': accuracy = 0.7432, difference = 0.0000\n",
      "Without 'employment_status': accuracy = 0.7466, difference = -0.0034\n",
      "Without 'lead_score': accuracy = 0.7432, difference = 0.0000\n"
     ]
    }
   ],
   "source": [
    "feature_differences = {}\n",
    "features_to_test = ['industry', 'employment_status', 'lead_score']\n",
    "\n",
    "for feature in features_to_test:\n",
    "    # Remove the feature from training and validation sets\n",
    "    X_train_reduced = X_train.drop(feature, axis=1)\n",
    "    X_val_reduced = X_val.drop(feature, axis=1)\n",
    "    \n",
    "    # Update categorical features list if we removed a categorical feature\n",
    "    if feature in categorical_features:\n",
    "        categorical_features_reduced = [f for f in categorical_features if f != feature]\n",
    "    else:\n",
    "        categorical_features_reduced = categorical_features.copy()\n",
    "    \n",
    "    # Prepare features with updated categorical features list\n",
    "    X_train_encoded_reduced = prepare_features_selected(X_train_reduced, categorical_features_reduced)\n",
    "    X_val_encoded_reduced = prepare_features_selected(X_val_reduced, categorical_features_reduced)\n",
    "    \n",
    "    # Train model\n",
    "    model_reduced = LogisticRegression(solver='liblinear', C=1.0, max_iter=1000, random_state=42)\n",
    "    model_reduced.fit(X_train_encoded_reduced, y_train)\n",
    "    \n",
    "    # Predict and calculate accuracy\n",
    "    y_val_pred_reduced = model_reduced.predict(X_val_encoded_reduced)\n",
    "    reduced_accuracy = accuracy_score(y_val, y_val_pred_reduced)\n",
    "    \n",
    "    # Calculate difference\n",
    "    difference = original_accuracy - reduced_accuracy\n",
    "    feature_differences[feature] = difference\n",
    "    print(f\"Without '{feature}': accuracy = {reduced_accuracy:.4f}, difference = {difference:.4f}\")"
   ]
  },
  {
   "cell_type": "code",
   "execution_count": 14,
   "id": "d0faa8e8-9951-4408-ba68-6b305dafc0ee",
   "metadata": {},
   "outputs": [
    {
     "name": "stdout",
     "output_type": "stream",
     "text": [
      "\n",
      "Q5 - Feature with smallest difference: 'industry'\n"
     ]
    }
   ],
   "source": [
    "# Find the feature with smallest absolute difference\n",
    "smallest_diff_feature = min(feature_differences, key=lambda x: abs(feature_differences[x]))\n",
    "print(f\"\\nQ5 - Feature with smallest difference: '{smallest_diff_feature}'\")"
   ]
  },
  {
   "cell_type": "code",
   "execution_count": 15,
   "id": "f81ab25d-5a71-47cf-bcc0-63ec1e2394b3",
   "metadata": {},
   "outputs": [
    {
     "name": "stdout",
     "output_type": "stream",
     "text": [
      "Differences: {'industry': 0.0, 'employment_status': -0.003424657534246589, 'lead_score': 0.0}\n"
     ]
    }
   ],
   "source": [
    "print(f\"Differences: {feature_differences}\")"
   ]
  },
  {
   "cell_type": "markdown",
   "id": "e5f7f7a3-c80b-4820-97de-44ddfe2564db",
   "metadata": {},
   "source": [
    "### Question 6: Regularized Logistic Regression"
   ]
  },
  {
   "cell_type": "code",
   "execution_count": 16,
   "id": "fbc34e6b-5b40-459c-b6a8-cfecc4e6b06c",
   "metadata": {},
   "outputs": [
    {
     "name": "stdout",
     "output_type": "stream",
     "text": [
      "C = 0.01: accuracy = 0.74315, rounded = 0.743\n",
      "C = 0.1: accuracy = 0.74315, rounded = 0.743\n",
      "C = 1: accuracy = 0.74315, rounded = 0.743\n",
      "C = 10: accuracy = 0.74315, rounded = 0.743\n",
      "C = 100: accuracy = 0.74315, rounded = 0.743\n"
     ]
    }
   ],
   "source": [
    "# Question 6\n",
    "C_values = [0.01, 0.1, 1, 10, 100]\n",
    "best_accuracy = 0\n",
    "best_C = None\n",
    "\n",
    "for C in C_values:\n",
    "    model_reg = LogisticRegression(solver='liblinear', C=C, max_iter=1000, random_state=42)\n",
    "    model_reg.fit(X_train_encoded, y_train)\n",
    "    \n",
    "    y_val_pred_reg = model_reg.predict(X_val_encoded)\n",
    "    accuracy_reg = accuracy_score(y_val, y_val_pred_reg)\n",
    "    accuracy_rounded_reg = round(accuracy_reg, 3)\n",
    "    \n",
    "    print(f\"C = {C}: accuracy = {accuracy_reg:.5f}, rounded = {accuracy_rounded_reg}\")\n",
    "    \n",
    "    if accuracy_reg > best_accuracy:\n",
    "        best_accuracy = accuracy_reg\n",
    "        best_C = C"
   ]
  },
  {
   "cell_type": "code",
   "execution_count": 17,
   "id": "7a2fd2c6-1e0a-4371-9b8e-9154e968b960",
   "metadata": {},
   "outputs": [
    {
     "name": "stdout",
     "output_type": "stream",
     "text": [
      "Q6 - Best C: 0.01 with accuracy 0.7432\n"
     ]
    }
   ],
   "source": [
    "print(f\"Q6 - Best C: {best_C} with accuracy {best_accuracy:.4f}\")"
   ]
  },
  {
   "cell_type": "code",
   "execution_count": null,
   "id": "7f53c873-e0cc-4dd1-a8db-7a68beddd302",
   "metadata": {},
   "outputs": [],
   "source": []
  }
 ],
 "metadata": {
  "kernelspec": {
   "display_name": "Python 3 (ipykernel)",
   "language": "python",
   "name": "python3"
  },
  "language_info": {
   "codemirror_mode": {
    "name": "ipython",
    "version": 3
   },
   "file_extension": ".py",
   "mimetype": "text/x-python",
   "name": "python",
   "nbconvert_exporter": "python",
   "pygments_lexer": "ipython3",
   "version": "3.13.5"
  }
 },
 "nbformat": 4,
 "nbformat_minor": 5
}
