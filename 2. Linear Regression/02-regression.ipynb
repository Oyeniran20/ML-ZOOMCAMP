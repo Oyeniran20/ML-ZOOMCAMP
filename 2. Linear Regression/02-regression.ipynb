{
 "cells": [
  {
   "cell_type": "markdown",
   "id": "88c4e1bf-708b-4527-a1cb-6ff0c48a424d",
   "metadata": {},
   "source": [
    "# Data Loading"
   ]
  },
  {
   "cell_type": "code",
   "execution_count": 1,
   "id": "c2807272-b842-4bfe-ac11-d3ff9bc039b6",
   "metadata": {},
   "outputs": [],
   "source": [
    "import pandas as pd\n",
    "import numpy as np"
   ]
  },
  {
   "cell_type": "code",
   "execution_count": 2,
   "id": "d658cfd0-a778-4f92-8346-2e459d876a51",
   "metadata": {},
   "outputs": [],
   "source": [
    "# Load the dataset\n",
    "url = \"https://raw.githubusercontent.com/alexeygrigorev/datasets/master/car_fuel_efficiency.csv\"\n",
    "df = pd.read_csv(url)\n",
    "\n",
    "columns_to_use = [\n",
    "    'engine_displacement',\n",
    "    'horsepower', \n",
    "    'vehicle_weight',\n",
    "    'model_year',\n",
    "    'fuel_efficiency_mpg'\n",
    "]\n",
    "df = df[columns_to_use]"
   ]
  },
  {
   "cell_type": "code",
   "execution_count": 3,
   "id": "bf426189-786a-45eb-9261-59f5bcc67b86",
   "metadata": {},
   "outputs": [
    {
     "data": {
      "text/html": [
       "<div>\n",
       "<style scoped>\n",
       "    .dataframe tbody tr th:only-of-type {\n",
       "        vertical-align: middle;\n",
       "    }\n",
       "\n",
       "    .dataframe tbody tr th {\n",
       "        vertical-align: top;\n",
       "    }\n",
       "\n",
       "    .dataframe thead th {\n",
       "        text-align: right;\n",
       "    }\n",
       "</style>\n",
       "<table border=\"1\" class=\"dataframe\">\n",
       "  <thead>\n",
       "    <tr style=\"text-align: right;\">\n",
       "      <th></th>\n",
       "      <th>engine_displacement</th>\n",
       "      <th>horsepower</th>\n",
       "      <th>vehicle_weight</th>\n",
       "      <th>model_year</th>\n",
       "      <th>fuel_efficiency_mpg</th>\n",
       "    </tr>\n",
       "  </thead>\n",
       "  <tbody>\n",
       "    <tr>\n",
       "      <th>0</th>\n",
       "      <td>170</td>\n",
       "      <td>159.0</td>\n",
       "      <td>3413.433759</td>\n",
       "      <td>2003</td>\n",
       "      <td>13.231729</td>\n",
       "    </tr>\n",
       "    <tr>\n",
       "      <th>1</th>\n",
       "      <td>130</td>\n",
       "      <td>97.0</td>\n",
       "      <td>3149.664934</td>\n",
       "      <td>2007</td>\n",
       "      <td>13.688217</td>\n",
       "    </tr>\n",
       "    <tr>\n",
       "      <th>2</th>\n",
       "      <td>170</td>\n",
       "      <td>78.0</td>\n",
       "      <td>3079.038997</td>\n",
       "      <td>2018</td>\n",
       "      <td>14.246341</td>\n",
       "    </tr>\n",
       "    <tr>\n",
       "      <th>3</th>\n",
       "      <td>220</td>\n",
       "      <td>NaN</td>\n",
       "      <td>2542.392402</td>\n",
       "      <td>2009</td>\n",
       "      <td>16.912736</td>\n",
       "    </tr>\n",
       "    <tr>\n",
       "      <th>4</th>\n",
       "      <td>210</td>\n",
       "      <td>140.0</td>\n",
       "      <td>3460.870990</td>\n",
       "      <td>2009</td>\n",
       "      <td>12.488369</td>\n",
       "    </tr>\n",
       "  </tbody>\n",
       "</table>\n",
       "</div>"
      ],
      "text/plain": [
       "   engine_displacement  horsepower  vehicle_weight  model_year  \\\n",
       "0                  170       159.0     3413.433759        2003   \n",
       "1                  130        97.0     3149.664934        2007   \n",
       "2                  170        78.0     3079.038997        2018   \n",
       "3                  220         NaN     2542.392402        2009   \n",
       "4                  210       140.0     3460.870990        2009   \n",
       "\n",
       "   fuel_efficiency_mpg  \n",
       "0            13.231729  \n",
       "1            13.688217  \n",
       "2            14.246341  \n",
       "3            16.912736  \n",
       "4            12.488369  "
      ]
     },
     "execution_count": 3,
     "metadata": {},
     "output_type": "execute_result"
    }
   ],
   "source": [
    "df.head()"
   ]
  },
  {
   "cell_type": "markdown",
   "id": "483e7d14-6663-45b2-9ec5-035a64464f50",
   "metadata": {},
   "source": [
    "#### Question 1\n",
    "There's one column with missing values. What is it?"
   ]
  },
  {
   "cell_type": "code",
   "execution_count": 4,
   "id": "0e77bbc9-1fed-4dbe-b511-99703ef6555b",
   "metadata": {},
   "outputs": [
    {
     "name": "stdout",
     "output_type": "stream",
     "text": [
      "Missing values in each column:\n",
      "engine_displacement      0\n",
      "horsepower             708\n",
      "vehicle_weight           0\n",
      "model_year               0\n",
      "fuel_efficiency_mpg      0\n",
      "dtype: int64\n"
     ]
    }
   ],
   "source": [
    "# Check for missing values in each column\n",
    "missing_values = df.isnull().sum()\n",
    "\n",
    "print(\"Missing values in each column:\")\n",
    "print(missing_values)"
   ]
  },
  {
   "cell_type": "markdown",
   "id": "41e98972-b0d5-41af-aff3-8f64cefb32df",
   "metadata": {},
   "source": [
    "#### Question 2\n",
    "What's the median (50% percentile) for variable 'horsepower'?"
   ]
  },
  {
   "cell_type": "code",
   "execution_count": 5,
   "id": "1c02a429-3fbc-4ec4-a55f-16032f3debbd",
   "metadata": {},
   "outputs": [
    {
     "name": "stdout",
     "output_type": "stream",
     "text": [
      "Median horsepower: 149.0\n"
     ]
    }
   ],
   "source": [
    "# Calculate median horsepower\n",
    "median_horsepower = df['horsepower'].median()\n",
    "print(f\"Median horsepower: {median_horsepower}\")"
   ]
  },
  {
   "cell_type": "code",
   "execution_count": null,
   "id": "bc2eceae-6021-465f-9412-8e37a7183e55",
   "metadata": {},
   "outputs": [],
   "source": []
  },
  {
   "cell_type": "markdown",
   "id": "914d8d03-5d1a-44c1-aae7-c47227466222",
   "metadata": {},
   "source": [
    "Prepare and split the dataset\n",
    "- Shuffle the dataset (the filtered one you created above), use seed 42.\n",
    "- Split your data in train/val/test sets, with 60%/20%/20% distribution.\n",
    "  \n",
    "Use the same code as in the lectures"
   ]
  },
  {
   "cell_type": "markdown",
   "id": "7aaa4716-4989-43d6-8cec-ef86e53ff235",
   "metadata": {},
   "source": [
    "#### Question 3\n",
    "- We need to deal with missing values for the column from Q1.\n",
    "- We have two options: fill it with 0 or with the mean of this variable.\n",
    "- Try both options. For each, train a linear regression model without regularization using the code from the lessons.\n",
    "- For computing the mean, use the training only!\n",
    "- Use the validation dataset to evaluate the models and compare the RMSE of each option.\n",
    "- Round the RMSE scores to 2 decimal digits using round(score, 2)\n",
    "- Which option gives better RMSE?"
   ]
  },
  {
   "cell_type": "code",
   "execution_count": 6,
   "id": "f1e9d967-83b9-46af-9379-954152df515d",
   "metadata": {},
   "outputs": [],
   "source": [
    "# function to work with\n",
    "def prepare_X(df, fill_method='zero', train_mean=None):\n",
    "    df_num = df.copy()\n",
    "    \n",
    "    if fill_method == 'zero':\n",
    "        df_num = df_num.fillna(0)\n",
    "    elif fill_method == 'mean':\n",
    "        if train_mean is not None:\n",
    "            df_num['horsepower'] = df_num['horsepower'].fillna(train_mean)\n",
    "        else:\n",
    "            df_num = df_num.fillna(df_num.mean())\n",
    "    \n",
    "    X = df_num.values\n",
    "    return X"
   ]
  },
  {
   "cell_type": "code",
   "execution_count": 7,
   "id": "446800fd-c36b-4c94-82ea-8ad516b2dc03",
   "metadata": {},
   "outputs": [],
   "source": [
    "def train_linear_regression(X, y):\n",
    "    ones = np.ones(X.shape[0])\n",
    "    X = np.column_stack([ones, X])\n",
    "\n",
    "    XTX = X.T.dot(X)\n",
    "    XTX_inv = np.linalg.inv(XTX)\n",
    "    w_full = XTX_inv.dot(X.T).dot(y)\n",
    "    \n",
    "    return w_full[0], w_full[1:]\n",
    "\n",
    "def train_linear_regression_reg(X, y, r=0.001):\n",
    "    ones = np.ones(X.shape[0])\n",
    "    X = np.column_stack([ones, X])\n",
    "\n",
    "    XTX = X.T.dot(X)\n",
    "    XTX = XTX + r * np.eye(XTX.shape[0])\n",
    "\n",
    "    XTX_inv = np.linalg.inv(XTX)\n",
    "    w_full = XTX_inv.dot(X.T).dot(y)\n",
    "    \n",
    "    return w_full[0], w_full[1:]\n",
    "\n",
    "def rmse(y, y_pred):\n",
    "    se = (y - y_pred) ** 2\n",
    "    mse = se.mean()\n",
    "    return np.sqrt(mse)"
   ]
  },
  {
   "cell_type": "markdown",
   "id": "047ebd03-4f4d-46d8-be91-fd44ed2e9890",
   "metadata": {},
   "source": [
    "### Compare filling with 0 vs mean"
   ]
  },
  {
   "cell_type": "code",
   "execution_count": 8,
   "id": "cb99ae4a-2f41-4051-9b15-c9be5d650248",
   "metadata": {},
   "outputs": [],
   "source": [
    "# Split the data (using seed 42 as specified)\n",
    "np.random.seed(42)\n",
    "n = len(df)\n",
    "n_val = int(n * 0.2)\n",
    "n_test = int(n * 0.2)\n",
    "n_train = n - n_val - n_test\n",
    "\n",
    "idx = np.arange(n)\n",
    "np.random.shuffle(idx)\n",
    "\n",
    "df_train = df.iloc[idx[:n_train]]\n",
    "df_val = df.iloc[idx[n_train:n_train+n_val]]\n",
    "df_test = df.iloc[idx[n_train+n_val:]]\n",
    "\n",
    "y_train = df_train.fuel_efficiency_mpg.values\n",
    "y_val = df_val.fuel_efficiency_mpg.values\n",
    "y_test = df_test.fuel_efficiency_mpg.values\n",
    "\n",
    "# Remove target from features\n",
    "del df_train['fuel_efficiency_mpg']\n",
    "del df_val['fuel_efficiency_mpg']\n",
    "del df_test['fuel_efficiency_mpg']"
   ]
  },
  {
   "cell_type": "code",
   "execution_count": 9,
   "id": "3f53382f-6874-43e1-9b35-06d8803f8b7d",
   "metadata": {},
   "outputs": [],
   "source": [
    "# Option 1: Fill with 0\n",
    "X_train_zero = prepare_X(df_train, 'zero')\n",
    "w0_zero, w_zero = train_linear_regression(X_train_zero, y_train)\n",
    "\n",
    "X_val_zero = prepare_X(df_val, 'zero')\n",
    "y_pred_zero = w0_zero + X_val_zero.dot(w_zero)\n",
    "rmse_zero = rmse(y_val, y_pred_zero)"
   ]
  },
  {
   "cell_type": "code",
   "execution_count": 10,
   "id": "5a8abb3b-9c8e-4522-aa57-f69be5ba7b73",
   "metadata": {},
   "outputs": [
    {
     "name": "stdout",
     "output_type": "stream",
     "text": [
      "RMSE with 0: 0.52\n",
      "RMSE with mean: 0.46\n",
      "Better option: With mean\n"
     ]
    }
   ],
   "source": [
    "# Option 2: Fill with mean (using training mean only)\n",
    "train_horsepower_mean = df_train['horsepower'].mean()\n",
    "X_train_mean = prepare_X(df_train, 'mean', train_horsepower_mean)\n",
    "w0_mean, w_mean = train_linear_regression(X_train_mean, y_train)\n",
    "\n",
    "X_val_mean = prepare_X(df_val, 'mean', train_horsepower_mean)\n",
    "y_pred_mean = w0_mean + X_val_mean.dot(w_mean)\n",
    "rmse_mean = rmse(y_val, y_pred_mean)\n",
    "\n",
    "print(f\"RMSE with 0: {round(rmse_zero, 2)}\")\n",
    "print(f\"RMSE with mean: {round(rmse_mean, 2)}\")\n",
    "print(f\"Better option: {'With 0' if rmse_zero < rmse_mean else 'With mean'}\")"
   ]
  },
  {
   "cell_type": "markdown",
   "id": "e263a57f-e391-44a4-bb50-167b10009941",
   "metadata": {},
   "source": [
    "#### Question 4\n",
    "- Now let's train a regularized linear regression.\n",
    "- For this question, fill the NAs with 0.\n",
    "- Try different values of r from this list: [0, 0.01, 0.1, 1, 5, 10, 100].\n",
    "- Use RMSE to evaluate the model on the validation dataset.\n",
    "- Round the RMSE scores to 2 decimal digits.\n",
    "- Which r gives the best RMSE?"
   ]
  },
  {
   "cell_type": "code",
   "execution_count": 11,
   "id": "8e3b4d98-c50f-4af5-955e-a68822385950",
   "metadata": {},
   "outputs": [
    {
     "name": "stdout",
     "output_type": "stream",
     "text": [
      "r=0: RMSE = 0.5174\n",
      "r=0.01: RMSE = 0.5171\n",
      "r=0.1: RMSE = 0.5188\n",
      "r=1: RMSE = 0.5222\n",
      "r=5: RMSE = 0.5229\n",
      "r=10: RMSE = 0.523\n",
      "r=100: RMSE = 0.5231\n",
      "Best r: 0.01\n"
     ]
    }
   ],
   "source": [
    "# Fill with 0 and try different r values\n",
    "r_values = [0, 0.01, 0.1, 1, 5, 10, 100]\n",
    "best_r = None\n",
    "best_rmse = float('inf')\n",
    "\n",
    "for r in r_values:\n",
    "    X_train_reg = prepare_X(df_train, 'zero')\n",
    "    w0_reg, w_reg = train_linear_regression_reg(X_train_reg, y_train, r=r)\n",
    "    \n",
    "    X_val_reg = prepare_X(df_val, 'zero')\n",
    "    y_pred_reg = w0_reg + X_val_reg.dot(w_reg)\n",
    "    rmse_reg = rmse(y_val, y_pred_reg)\n",
    "    \n",
    "    print(f\"r={r}: RMSE = {round(rmse_reg, 4)}\")\n",
    "    \n",
    "    if rmse_reg < best_rmse:\n",
    "        best_rmse = rmse_reg\n",
    "        best_r = r\n",
    "\n",
    "print(f\"Best r: {best_r}\")"
   ]
  },
  {
   "cell_type": "markdown",
   "id": "53a0c44d-042e-444d-b385-740617b2351c",
   "metadata": {},
   "source": [
    "#### Question 5\n",
    "- We used seed 42 for splitting the data. Let's find out how selecting the seed influences our score.\n",
    "- Try different seed values: [0, 1, 2, 3, 4, 5, 6, 7, 8, 9].\n",
    "- For each seed, do the train/validation/test split with 60%/20%/20% distribution.\n",
    "- Fill the missing values with 0 and train a model without regularization.\n",
    "- For each seed, evaluate the model on the validation dataset and collect the RMSE scores.\n",
    "- What's the standard deviation of all the scores? To compute the standard deviation, use np.std.\n",
    "- Round the result to 3 decimal digits (round(std, 3))"
   ]
  },
  {
   "cell_type": "code",
   "execution_count": 12,
   "id": "dbce09d9-73a6-4af1-a5c9-9a01c1c1d9f9",
   "metadata": {},
   "outputs": [
    {
     "name": "stdout",
     "output_type": "stream",
     "text": [
      "\n",
      "Question 5 Results:\n",
      "Seed 0: RMSE = 0.521\n",
      "Seed 1: RMSE = 0.521\n",
      "Seed 2: RMSE = 0.523\n",
      "Seed 3: RMSE = 0.516\n",
      "Seed 4: RMSE = 0.511\n",
      "Seed 5: RMSE = 0.528\n",
      "Seed 6: RMSE = 0.531\n",
      "Seed 7: RMSE = 0.509\n",
      "Seed 8: RMSE = 0.515\n",
      "Seed 9: RMSE = 0.513\n",
      "\n",
      "Standard deviation of RMSE scores: 0.007\n"
     ]
    }
   ],
   "source": [
    "seeds = [0, 1, 2, 3, 4, 5, 6, 7, 8, 9]\n",
    "rmse_scores = []\n",
    "\n",
    "print(\"\\nQuestion 5 Results:\")\n",
    "for seed in seeds:\n",
    "    np.random.seed(seed)\n",
    "    n = len(df)\n",
    "    n_val = int(n * 0.2)\n",
    "    n_test = int(n * 0.2)\n",
    "    n_train = n - n_val - n_test\n",
    "    \n",
    "    idx = np.arange(n)\n",
    "    np.random.shuffle(idx)\n",
    "    \n",
    "    df_train_seed = df.iloc[idx[:n_train]]\n",
    "    df_val_seed = df.iloc[idx[n_train:n_train+n_val]]\n",
    "    \n",
    "    y_train_seed = df_train_seed.fuel_efficiency_mpg.values\n",
    "    y_val_seed = df_val_seed.fuel_efficiency_mpg.values\n",
    "    \n",
    "    del df_train_seed['fuel_efficiency_mpg']\n",
    "    del df_val_seed['fuel_efficiency_mpg']\n",
    "    \n",
    "    X_train_seed = prepare_X(df_train_seed, 'zero')\n",
    "    w0_seed, w_seed = train_linear_regression(X_train_seed, y_train_seed)\n",
    "    \n",
    "    X_val_seed = prepare_X(df_val_seed, 'zero')\n",
    "    y_pred_seed = w0_seed + X_val_seed.dot(w_seed)\n",
    "    rmse_seed = rmse(y_val_seed, y_pred_seed)\n",
    "    \n",
    "    rmse_scores.append(rmse_seed)\n",
    "    print(f\"Seed {seed}: RMSE = {round(rmse_seed, 3)}\")\n",
    "\n",
    "std_rmse = np.std(rmse_scores)\n",
    "print(f\"\\nStandard deviation of RMSE scores: {round(std_rmse, 3)}\")"
   ]
  },
  {
   "cell_type": "markdown",
   "id": "3dcdc464-6719-4ad5-9f9d-7b041d296590",
   "metadata": {},
   "source": [
    "#### Question 6\n",
    "- Split the dataset like previously, use seed 9.\n",
    "- Combine train and validation datasets.\n",
    "- Fill the missing values with 0 and train a model with r=0.001.\n",
    "- What's the RMSE on the test dataset?"
   ]
  },
  {
   "cell_type": "code",
   "execution_count": 13,
   "id": "852cb44f-fd70-4652-a5f7-9f0f23f0447b",
   "metadata": {},
   "outputs": [
    {
     "name": "stdout",
     "output_type": "stream",
     "text": [
      "Test RMSE with r=0.001: 0.52\n"
     ]
    }
   ],
   "source": [
    "# Split with seed 9\n",
    "np.random.seed(9)\n",
    "n = len(df)\n",
    "n_val = int(n * 0.2)\n",
    "n_test = int(n * 0.2)\n",
    "n_train = n - n_val - n_test\n",
    "\n",
    "idx = np.arange(n)\n",
    "np.random.shuffle(idx)\n",
    "\n",
    "df_train_final = df.iloc[idx[:n_train]]\n",
    "df_val_final = df.iloc[idx[n_train:n_train+n_val]]\n",
    "df_test_final = df.iloc[idx[n_train+n_val:]]\n",
    "\n",
    "# Combine train and validation\n",
    "df_train_val = pd.concat([df_train_final, df_val_final])\n",
    "df_train_val = df_train_val.reset_index(drop=True)\n",
    "\n",
    "y_train_val = df_train_val.fuel_efficiency_mpg.values\n",
    "y_test_final = df_test_final.fuel_efficiency_mpg.values\n",
    "\n",
    "del df_train_val['fuel_efficiency_mpg']\n",
    "del df_test_final['fuel_efficiency_mpg']\n",
    "\n",
    "# Train on combined train+val with r=0.001\n",
    "X_train_val = prepare_X(df_train_val, 'zero')\n",
    "w0_final, w_final = train_linear_regression_reg(X_train_val, y_train_val, r=0.001)\n",
    "\n",
    "X_test_final = prepare_X(df_test_final, 'zero')\n",
    "y_pred_test = w0_final + X_test_final.dot(w_final)\n",
    "rmse_test_final = rmse(y_test_final, y_pred_test)\n",
    "\n",
    "print(f\"Test RMSE with r=0.001: {round(rmse_test_final, 2)}\")"
   ]
  },
  {
   "cell_type": "code",
   "execution_count": null,
   "id": "a229c132-f6eb-4927-8f98-dadf4bbe7000",
   "metadata": {},
   "outputs": [],
   "source": []
  }
 ],
 "metadata": {
  "kernelspec": {
   "display_name": "Python 3 (ipykernel)",
   "language": "python",
   "name": "python3"
  },
  "language_info": {
   "codemirror_mode": {
    "name": "ipython",
    "version": 3
   },
   "file_extension": ".py",
   "mimetype": "text/x-python",
   "name": "python",
   "nbconvert_exporter": "python",
   "pygments_lexer": "ipython3",
   "version": "3.13.5"
  }
 },
 "nbformat": 4,
 "nbformat_minor": 5
}
