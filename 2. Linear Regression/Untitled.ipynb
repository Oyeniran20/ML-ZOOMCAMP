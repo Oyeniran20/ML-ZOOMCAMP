{
 "cells": [
  {
   "cell_type": "markdown",
   "id": "589c851b-8d5e-4852-aa48-8b86ba756715",
   "metadata": {},
   "source": [
    "# ML-ZoomCamp : Regression"
   ]
  },
  {
   "cell_type": "code",
   "execution_count": 2,
   "id": "97f64229-ec68-44bd-a260-60c947d6e225",
   "metadata": {},
   "outputs": [],
   "source": [
    "import pandas as pd\n",
    "import numpy as np"
   ]
  },
  {
   "cell_type": "code",
   "execution_count": 4,
   "id": "1e774fe3-f346-4010-a9c7-b54ae840bd6d",
   "metadata": {},
   "outputs": [],
   "source": [
    "url = 'https://raw.githubusercontent.com/alexeygrigorev/datasets/master/laptops.csv'"
   ]
  },
  {
   "cell_type": "code",
   "execution_count": 9,
   "id": "68af6572-47ee-4221-b9cf-f51bb65328c1",
   "metadata": {},
   "outputs": [
    {
     "data": {
      "text/html": [
       "<div>\n",
       "<style scoped>\n",
       "    .dataframe tbody tr th:only-of-type {\n",
       "        vertical-align: middle;\n",
       "    }\n",
       "\n",
       "    .dataframe tbody tr th {\n",
       "        vertical-align: top;\n",
       "    }\n",
       "\n",
       "    .dataframe thead th {\n",
       "        text-align: right;\n",
       "    }\n",
       "</style>\n",
       "<table border=\"1\" class=\"dataframe\">\n",
       "  <thead>\n",
       "    <tr style=\"text-align: right;\">\n",
       "      <th></th>\n",
       "      <th>Laptop</th>\n",
       "      <th>Status</th>\n",
       "      <th>Brand</th>\n",
       "      <th>Model</th>\n",
       "      <th>CPU</th>\n",
       "      <th>RAM</th>\n",
       "      <th>Storage</th>\n",
       "      <th>Storage type</th>\n",
       "      <th>GPU</th>\n",
       "      <th>Screen</th>\n",
       "      <th>Touch</th>\n",
       "      <th>Final Price</th>\n",
       "    </tr>\n",
       "  </thead>\n",
       "  <tbody>\n",
       "    <tr>\n",
       "      <th>0</th>\n",
       "      <td>ASUS ExpertBook B1 B1502CBA-EJ0436X Intel Core...</td>\n",
       "      <td>New</td>\n",
       "      <td>Asus</td>\n",
       "      <td>ExpertBook</td>\n",
       "      <td>Intel Core i5</td>\n",
       "      <td>8</td>\n",
       "      <td>512</td>\n",
       "      <td>SSD</td>\n",
       "      <td>NaN</td>\n",
       "      <td>15.6</td>\n",
       "      <td>No</td>\n",
       "      <td>1009.00</td>\n",
       "    </tr>\n",
       "    <tr>\n",
       "      <th>1</th>\n",
       "      <td>Alurin Go Start Intel Celeron N4020/8GB/256GB ...</td>\n",
       "      <td>New</td>\n",
       "      <td>Alurin</td>\n",
       "      <td>Go</td>\n",
       "      <td>Intel Celeron</td>\n",
       "      <td>8</td>\n",
       "      <td>256</td>\n",
       "      <td>SSD</td>\n",
       "      <td>NaN</td>\n",
       "      <td>15.6</td>\n",
       "      <td>No</td>\n",
       "      <td>299.00</td>\n",
       "    </tr>\n",
       "    <tr>\n",
       "      <th>2</th>\n",
       "      <td>ASUS ExpertBook B1 B1502CBA-EJ0424X Intel Core...</td>\n",
       "      <td>New</td>\n",
       "      <td>Asus</td>\n",
       "      <td>ExpertBook</td>\n",
       "      <td>Intel Core i3</td>\n",
       "      <td>8</td>\n",
       "      <td>256</td>\n",
       "      <td>SSD</td>\n",
       "      <td>NaN</td>\n",
       "      <td>15.6</td>\n",
       "      <td>No</td>\n",
       "      <td>789.00</td>\n",
       "    </tr>\n",
       "    <tr>\n",
       "      <th>3</th>\n",
       "      <td>MSI Katana GF66 12UC-082XES Intel Core i7-1270...</td>\n",
       "      <td>New</td>\n",
       "      <td>MSI</td>\n",
       "      <td>Katana</td>\n",
       "      <td>Intel Core i7</td>\n",
       "      <td>16</td>\n",
       "      <td>1000</td>\n",
       "      <td>SSD</td>\n",
       "      <td>RTX 3050</td>\n",
       "      <td>15.6</td>\n",
       "      <td>No</td>\n",
       "      <td>1199.00</td>\n",
       "    </tr>\n",
       "    <tr>\n",
       "      <th>4</th>\n",
       "      <td>HP 15S-FQ5085NS Intel Core i5-1235U/16GB/512GB...</td>\n",
       "      <td>New</td>\n",
       "      <td>HP</td>\n",
       "      <td>15S</td>\n",
       "      <td>Intel Core i5</td>\n",
       "      <td>16</td>\n",
       "      <td>512</td>\n",
       "      <td>SSD</td>\n",
       "      <td>NaN</td>\n",
       "      <td>15.6</td>\n",
       "      <td>No</td>\n",
       "      <td>669.01</td>\n",
       "    </tr>\n",
       "  </tbody>\n",
       "</table>\n",
       "</div>"
      ],
      "text/plain": [
       "                                              Laptop Status   Brand  \\\n",
       "0  ASUS ExpertBook B1 B1502CBA-EJ0436X Intel Core...    New    Asus   \n",
       "1  Alurin Go Start Intel Celeron N4020/8GB/256GB ...    New  Alurin   \n",
       "2  ASUS ExpertBook B1 B1502CBA-EJ0424X Intel Core...    New    Asus   \n",
       "3  MSI Katana GF66 12UC-082XES Intel Core i7-1270...    New     MSI   \n",
       "4  HP 15S-FQ5085NS Intel Core i5-1235U/16GB/512GB...    New      HP   \n",
       "\n",
       "        Model            CPU  RAM  Storage Storage type       GPU  Screen  \\\n",
       "0  ExpertBook  Intel Core i5    8      512          SSD       NaN    15.6   \n",
       "1          Go  Intel Celeron    8      256          SSD       NaN    15.6   \n",
       "2  ExpertBook  Intel Core i3    8      256          SSD       NaN    15.6   \n",
       "3      Katana  Intel Core i7   16     1000          SSD  RTX 3050    15.6   \n",
       "4         15S  Intel Core i5   16      512          SSD       NaN    15.6   \n",
       "\n",
       "  Touch  Final Price  \n",
       "0    No      1009.00  \n",
       "1    No       299.00  \n",
       "2    No       789.00  \n",
       "3    No      1199.00  \n",
       "4    No       669.01  "
      ]
     },
     "execution_count": 9,
     "metadata": {},
     "output_type": "execute_result"
    }
   ],
   "source": [
    "df = pd.read_csv('laptops.csv')\n",
    "df.head()"
   ]
  },
  {
   "cell_type": "code",
   "execution_count": 11,
   "id": "0fa26214-f5cc-4acb-8a83-229eddb3ac03",
   "metadata": {},
   "outputs": [
    {
     "data": {
      "text/plain": [
       "(2160, 12)"
      ]
     },
     "execution_count": 11,
     "metadata": {},
     "output_type": "execute_result"
    }
   ],
   "source": [
    "df.shape"
   ]
  },
  {
   "cell_type": "markdown",
   "id": "4cfcfc44-2ecd-4932-954d-6a001f17eaae",
   "metadata": {},
   "source": [
    "### Preparing the dataset"
   ]
  },
  {
   "cell_type": "code",
   "execution_count": 14,
   "id": "6d68f0b9-ed1f-4121-a332-c15b3695f2bd",
   "metadata": {},
   "outputs": [],
   "source": [
    "df.columns = df.columns.str.lower().str.replace(' ', '_')"
   ]
  },
  {
   "cell_type": "markdown",
   "id": "9220dcf2-b0b9-4438-ba68-d098b8a0bba9",
   "metadata": {},
   "source": [
    "use only the following columns:\n",
    "- 'ram',\n",
    "- 'storage',\n",
    "- 'screen',\n",
    "- 'final_price'"
   ]
  },
  {
   "cell_type": "code",
   "execution_count": 17,
   "id": "d51deb66-cce6-443c-961a-86bf6d1df1f1",
   "metadata": {},
   "outputs": [],
   "source": [
    "# Keep only the numerical columns (for simplicity)\n",
    "df = df[['ram', 'storage', 'screen', 'final_price']]"
   ]
  },
  {
   "cell_type": "code",
   "execution_count": 19,
   "id": "5802d0d6-5a41-4d97-9014-6b82072d1685",
   "metadata": {},
   "outputs": [
    {
     "data": {
      "text/html": [
       "<div>\n",
       "<style scoped>\n",
       "    .dataframe tbody tr th:only-of-type {\n",
       "        vertical-align: middle;\n",
       "    }\n",
       "\n",
       "    .dataframe tbody tr th {\n",
       "        vertical-align: top;\n",
       "    }\n",
       "\n",
       "    .dataframe thead th {\n",
       "        text-align: right;\n",
       "    }\n",
       "</style>\n",
       "<table border=\"1\" class=\"dataframe\">\n",
       "  <thead>\n",
       "    <tr style=\"text-align: right;\">\n",
       "      <th></th>\n",
       "      <th>ram</th>\n",
       "      <th>storage</th>\n",
       "      <th>screen</th>\n",
       "      <th>final_price</th>\n",
       "    </tr>\n",
       "  </thead>\n",
       "  <tbody>\n",
       "    <tr>\n",
       "      <th>0</th>\n",
       "      <td>8</td>\n",
       "      <td>512</td>\n",
       "      <td>15.6</td>\n",
       "      <td>1009.00</td>\n",
       "    </tr>\n",
       "    <tr>\n",
       "      <th>1</th>\n",
       "      <td>8</td>\n",
       "      <td>256</td>\n",
       "      <td>15.6</td>\n",
       "      <td>299.00</td>\n",
       "    </tr>\n",
       "    <tr>\n",
       "      <th>2</th>\n",
       "      <td>8</td>\n",
       "      <td>256</td>\n",
       "      <td>15.6</td>\n",
       "      <td>789.00</td>\n",
       "    </tr>\n",
       "    <tr>\n",
       "      <th>3</th>\n",
       "      <td>16</td>\n",
       "      <td>1000</td>\n",
       "      <td>15.6</td>\n",
       "      <td>1199.00</td>\n",
       "    </tr>\n",
       "    <tr>\n",
       "      <th>4</th>\n",
       "      <td>16</td>\n",
       "      <td>512</td>\n",
       "      <td>15.6</td>\n",
       "      <td>669.01</td>\n",
       "    </tr>\n",
       "  </tbody>\n",
       "</table>\n",
       "</div>"
      ],
      "text/plain": [
       "   ram  storage  screen  final_price\n",
       "0    8      512    15.6      1009.00\n",
       "1    8      256    15.6       299.00\n",
       "2    8      256    15.6       789.00\n",
       "3   16     1000    15.6      1199.00\n",
       "4   16      512    15.6       669.01"
      ]
     },
     "execution_count": 19,
     "metadata": {},
     "output_type": "execute_result"
    }
   ],
   "source": [
    "df.head()"
   ]
  },
  {
   "cell_type": "markdown",
   "id": "52cd268b-c1f7-4570-ab80-6bc6e8194b47",
   "metadata": {},
   "source": [
    "### EDA\n",
    "Look at the final_price variable. Does it have a long tail?"
   ]
  },
  {
   "cell_type": "code",
   "execution_count": 22,
   "id": "576fd5bf-6e28-4a82-b2ee-d5fd1f243f88",
   "metadata": {},
   "outputs": [],
   "source": [
    "import matplotlib.pyplot as plt\n",
    "import seaborn as sns"
   ]
  },
  {
   "cell_type": "code",
   "execution_count": 23,
   "id": "04498437-2faf-4ab9-ac59-bbe8e91bbf17",
   "metadata": {},
   "outputs": [
    {
     "data": {
      "image/png": "[encoded data removed]",
      "text/plain": [
       "<Figure size 800x400 with 1 Axes>"
      ]
     },
     "metadata": {},
     "output_type": "display_data"
    }
   ],
   "source": [
    "plt.figure(figsize=(8, 4))\n",
    "\n",
    "sns.histplot(df.final_price, bins=50, kde=True)\n",
    "plt.show()"
   ]
  },
  {
   "cell_type": "markdown",
   "id": "bad87d54-3213-4c41-b967-8480eb36c577",
   "metadata": {},
   "source": [
    "### Question 1\n",
    "There's one column with missing values. What is it?"
   ]
  },
  {
   "cell_type": "code",
   "execution_count": 29,
   "id": "2767d42b-42c8-48a6-9bb6-b63cd4577f80",
   "metadata": {},
   "outputs": [
    {
     "data": {
      "text/plain": [
       "ram            0\n",
       "storage        0\n",
       "screen         4\n",
       "final_price    0\n",
       "dtype: int64"
      ]
     },
     "execution_count": 29,
     "metadata": {},
     "output_type": "execute_result"
    }
   ],
   "source": [
    "df.isna().sum()"
   ]
  },
  {
   "cell_type": "markdown",
   "id": "cd459f69-e874-4121-a0ad-5707717996b9",
   "metadata": {},
   "source": [
    "### Question 2\n",
    "What's the median (50% percentile) for variable 'ram'?"
   ]
  },
  {
   "cell_type": "code",
   "execution_count": 32,
   "id": "f6590b1d-41d9-4d65-902e-738da1218199",
   "metadata": {},
   "outputs": [
    {
     "name": "stdout",
     "output_type": "stream",
     "text": [
      " Median (50th Percentile) of RAM: 16.0 GB\n"
     ]
    }
   ],
   "source": [
    "ram_median = df['ram'].median()\n",
    "print(f' Median (50th Percentile) of RAM: {ram_median} GB')"
   ]
  },
  {
   "cell_type": "markdown",
   "id": "61fdca69-969e-40cb-8228-abd3ae1f31ab",
   "metadata": {},
   "source": [
    "### Prepare and split the dataset\n",
    "- Shuffle the dataset (the filtered one you created above), use seed 42.\n",
    "- Split your data in train/val/test sets, with 60%/20%/20% distribution."
   ]
  },
  {
   "cell_type": "code",
   "execution_count": 35,
   "id": "23e64cb7-b43b-4a90-bcd1-ba6882727203",
   "metadata": {},
   "outputs": [],
   "source": [
    "np.random.seed(42)\n",
    "idx = np.arange(len(df))\n",
    "np.random.shuffle(idx)"
   ]
  },
  {
   "cell_type": "code",
   "execution_count": 37,
   "id": "6cbb6415-02e4-49ab-a13f-1e186eefd8d9",
   "metadata": {},
   "outputs": [],
   "source": [
    "df_shuffled = df.iloc[idx].reset_index(drop=True)"
   ]
  },
  {
   "cell_type": "code",
   "execution_count": 39,
   "id": "14e501be-a2d3-41fd-b5b5-1a4d4cdc46b6",
   "metadata": {},
   "outputs": [],
   "source": [
    "n = len(df_shuffled)\n",
    "n_val = int(n * 0.2)\n",
    "n_test = int(n * 0.2)\n",
    "n_train = n - n_val - n_test"
   ]
  },
  {
   "cell_type": "code",
   "execution_count": 41,
   "id": "c9803107-269d-4f02-96c5-d53fb034c38e",
   "metadata": {},
   "outputs": [],
   "source": [
    "df_train = df_shuffled.iloc[:n_train]\n",
    "df_val = df_shuffled.iloc[n_train : n_train + n_val]\n",
    "df_test = df_shuffled.iloc[n_train + n_val:]"
   ]
  },
  {
   "cell_type": "code",
   "execution_count": 43,
   "id": "57593f23-a057-4610-bfbd-b29845629876",
   "metadata": {},
   "outputs": [
    {
     "name": "stdout",
     "output_type": "stream",
     "text": [
      "Training set size: (1296, 4)\n",
      "Validation set size: (432, 4)\n",
      "Test set size: (432, 4)\n"
     ]
    }
   ],
   "source": [
    "# Print the shapes of the splits to verify\n",
    "print(f\"Training set size: {df_train.shape}\")\n",
    "print(f\"Validation set size: {df_val.shape}\")\n",
    "print(f\"Test set size: {df_test.shape}\")"
   ]
  },
  {
   "cell_type": "code",
   "execution_count": 45,
   "id": "ca54ddd5-05f4-4e86-ab9a-5c0a44ad2eb9",
   "metadata": {},
   "outputs": [],
   "source": [
    "X_train = df_train.drop(columns='final_price')\n",
    "X_val = df_val.drop(columns='final_price')\n",
    "X_test = df_test.drop(columns='final_price')"
   ]
  },
  {
   "cell_type": "code",
   "execution_count": 47,
   "id": "ebf40a98-5b5e-449c-ba79-feb3c02ccbfc",
   "metadata": {},
   "outputs": [],
   "source": [
    "y_train = df_train['final_price']\n",
    "y_val = df_val['final_price']\n",
    "y_test = df_test['final_price']"
   ]
  },
  {
   "cell_type": "code",
   "execution_count": 49,
   "id": "d1a0b30b-8702-443b-8460-41834e809e88",
   "metadata": {},
   "outputs": [
    {
     "data": {
      "text/plain": [
       "1296"
      ]
     },
     "execution_count": 49,
     "metadata": {},
     "output_type": "execute_result"
    }
   ],
   "source": [
    "len(X_train)"
   ]
  },
  {
   "cell_type": "markdown",
   "id": "0bf72334-31ab-4f65-85ee-5ba3506644ae",
   "metadata": {},
   "source": [
    "### Linear Regression"
   ]
  },
  {
   "cell_type": "markdown",
   "id": "fafb3a62-6509-4992-aff3-9accf74f849a",
   "metadata": {},
   "source": [
    "### Question 3\n",
    "- We need to deal with missing values for the column from Q1.\n",
    "- We have two options: fill it with 0 or with the mean of this variable.\n",
    "- Try both options. For each, train a linear regression model without regularization using the code from the lessons.\n",
    "- For computing the mean, use the training only!\n",
    "- Use the validation dataset to evaluate the models and compare the RMSE of each option.\n",
    "- Round the RMSE scores to 2 decimal digits using round(score, 2)"
   ]
  },
  {
   "cell_type": "code",
   "execution_count": 53,
   "id": "2dc90be2-14bc-44b4-af08-be4f2fbcf5d4",
   "metadata": {},
   "outputs": [],
   "source": [
    "# Option 1: Fill missing values with 0\n",
    "X_train_0 = X_train.fillna(0)\n",
    "X_val_0 = X_val.fillna(0)\n",
    "X_test_0 = X_test.fillna(0)"
   ]
  },
  {
   "cell_type": "code",
   "execution_count": 55,
   "id": "2dd53def-ea59-4d17-b580-f330544c5e61",
   "metadata": {},
   "outputs": [],
   "source": [
    "from sklearn.linear_model import LinearRegression, Ridge\n",
    "from sklearn.metrics import mean_squared_error, r2_score"
   ]
  },
  {
   "cell_type": "code",
   "execution_count": 56,
   "id": "8a9a63fc-70c1-4716-9d5f-583e32ed0155",
   "metadata": {},
   "outputs": [
    {
     "name": "stdout",
     "output_type": "stream",
     "text": [
      "RMSE (Fill with 0): 597.36\n"
     ]
    }
   ],
   "source": [
    "# Train the model\n",
    "model_0 = LinearRegression()\n",
    "model_0.fit(X_train_0, y_train)\n",
    "\n",
    "# Predict and evaluate on validation set\n",
    "y_pred_0 = model_0.predict(X_val_0)\n",
    "rmse_0 = np.sqrt(mean_squared_error(y_val, y_pred_0))\n",
    "print(f\"RMSE (Fill with 0): {round(rmse_0, 2)}\")"
   ]
  },
  {
   "cell_type": "code",
   "execution_count": 59,
   "id": "5ff83bed-938f-46fd-b4f8-986ba1f5b0b1",
   "metadata": {},
   "outputs": [
    {
     "name": "stdout",
     "output_type": "stream",
     "text": [
      "RMSE (Fill with mean): 600.27\n"
     ]
    }
   ],
   "source": [
    "# Option 2: Fill missing values with the mean (computed from training set)\n",
    "mean_final_price = X_train.mean()\n",
    "X_train_mean = X_train.fillna(mean_final_price)\n",
    "X_val_mean = X_val.fillna(mean_final_price)\n",
    "\n",
    "# Train the model\n",
    "model_mean = LinearRegression()\n",
    "model_mean.fit(X_train_mean, y_train)\n",
    "\n",
    "# Predict and evaluate on validation set\n",
    "y_pred_mean = model_mean.predict(X_val_mean)\n",
    "rmse_mean = np.sqrt(mean_squared_error(y_val, y_pred_mean))\n",
    "print(f\"RMSE (Fill with mean): {round(rmse_mean, 2)}\")"
   ]
  },
  {
   "cell_type": "code",
   "execution_count": 61,
   "id": "65776865-e2e9-4ba2-8ccd-2bb276548ad3",
   "metadata": {},
   "outputs": [
    {
     "name": "stdout",
     "output_type": "stream",
     "text": [
      "Filling with 0 gives a better RMSE.\n"
     ]
    }
   ],
   "source": [
    "# Compare both RMSEs\n",
    "if rmse_mean < rmse_0:\n",
    "    print(\"Filling with mean gives a better RMSE.\")\n",
    "else:\n",
    "    print(\"Filling with 0 gives a better RMSE.\")"
   ]
  },
  {
   "cell_type": "markdown",
   "id": "320fb0cc-c07f-4205-b5b2-85ffaee5ad42",
   "metadata": {},
   "source": [
    "### Question 4\n",
    "- Now let's train a regularized linear regression.\n",
    "- For this question, fill the NAs with 0.\n",
    "- Try different values of r from this list: [0, 0.01, 0.1, 1, 5, 10, 100].\n",
    "- Use RMSE to evaluate the model on the validation dataset.\n",
    "- Round the RMSE scores to 2 decimal digits."
   ]
  },
  {
   "cell_type": "code",
   "execution_count": 64,
   "id": "592cd393-876c-45cb-87c4-ce1e01fd61ac",
   "metadata": {},
   "outputs": [
    {
     "name": "stdout",
     "output_type": "stream",
     "text": [
      "RMSE for r=0: 597.36\n",
      "RMSE for r=0.01: 597.36\n",
      "RMSE for r=0.1: 597.36\n",
      "RMSE for r=1: 597.36\n",
      "RMSE for r=5: 597.36\n",
      "RMSE for r=10: 597.36\n",
      "RMSE for r=100: 597.34\n",
      "\n",
      "Best r: 100, with RMSE: 597.34\n"
     ]
    }
   ],
   "source": [
    "# List of regularization strengths (r values)\n",
    "r_values = [0, 0.01, 0.1, 1, 5, 10, 100]\n",
    "\n",
    "# Function to calculate RMSE\n",
    "def rmse(y_true, y_pred):\n",
    "    return np.sqrt(mean_squared_error(y_true, y_pred))\n",
    "\n",
    "# Train and evaluate Ridge regression models for each r\n",
    "best_r = None\n",
    "best_rmse = float('inf')\n",
    "\n",
    "for r in r_values:\n",
    "    # Train Ridge regression model\n",
    "    model = Ridge(alpha=r)\n",
    "    model.fit(X_train_0, y_train)\n",
    "\n",
    "    # Predict on validation set\n",
    "    y_pred = model.predict(X_val_0)\n",
    "\n",
    "    # Calculate RMSE\n",
    "    score = rmse(y_val, y_pred)\n",
    "    print(f\"RMSE for r={r}: {round(score, 2)}\")\n",
    "\n",
    "    # Check if this is the best RMSE\n",
    "    if score < best_rmse:\n",
    "        best_rmse = score\n",
    "        best_r = r\n",
    "\n",
    "# Print the best result\n",
    "print(f\"\\nBest r: {best_r}, with RMSE: {round(best_rmse, 2)}\")"
   ]
  },
  {
   "cell_type": "code",
   "execution_count": 66,
   "id": "7bef1a5d-bea4-44da-a7a1-c8ddc7cd12a8",
   "metadata": {},
   "outputs": [
    {
     "name": "stdout",
     "output_type": "stream",
     "text": [
      "RMSE scores for different seeds: [734.72, 734.72, 734.72, 734.72, 734.72, 734.72, 734.72, 734.72, 734.72, 734.72]\n",
      "Standard deviation of RMSE: 0.0\n"
     ]
    }
   ],
   "source": [
    "# List of seeds to test\n",
    "seeds = [0, 1, 2, 3, 4, 5, 6, 7, 8, 9]\n",
    "\n",
    "# Function to calculate RMSE\n",
    "def rmse(y_true, y_pred):\n",
    "    return np.sqrt(mean_squared_error(y_true, y_pred))\n",
    "\n",
    "# List to store the RMSE scores\n",
    "rmse_scores = []\n",
    "\n",
    "# Iterate over each seed\n",
    "for seed in seeds:\n",
    "    # Set seed for splitting\n",
    "    np.random.seed(seed)\n",
    "    idx = np.arange(len(df))\n",
    "    np.random.shuffle(idx)\n",
    "    df_filtered = df.iloc[idx].reset_index(drop=True)\n",
    "\n",
    "    # Split the data into train/validation/test (60%/20%/20%)\n",
    "    n = len(df_filtered)\n",
    "    n_val = int(n * 0.2)\n",
    "    n_test = int(n * 0.2)\n",
    "    n_train = n - n_val - n_test\n",
    "\n",
    "    df_train = df.iloc[:n_train]\n",
    "    df_val = df.iloc[n_train:n_train + n_val]\n",
    "    df_test = df.iloc[n_train + n_val:]\n",
    "\n",
    "    # Separate the target variable (Final Price)\n",
    "    X_train = df_train.drop(columns='final_price')\n",
    "    y_train = df_train['final_price']\n",
    "    X_val = df_val.drop(columns='final_price')\n",
    "    y_val = df_val['final_price']\n",
    "\n",
    "    # Fill missing values with 0\n",
    "    X_train = X_train.fillna(0)\n",
    "    X_val = X_val.fillna(0)\n",
    "\n",
    "    # Train Ridge regression model without regularization (alpha=0)\n",
    "    model = Ridge(alpha=0)\n",
    "    model.fit(X_train, y_train)\n",
    "\n",
    "    # Predict on validation set\n",
    "    y_pred = model.predict(X_val)\n",
    "\n",
    "    # Calculate RMSE and store the score\n",
    "    score = rmse(y_val, y_pred)\n",
    "    rmse_scores.append(score)\n",
    "\n",
    "# Calculate the standard deviation of RMSE scores\n",
    "std_rmse = np.std(rmse_scores)\n",
    "\n",
    "# Print the RMSE scores and their standard deviation\n",
    "print(\"RMSE scores for different seeds:\", [round(score, 2) for score in rmse_scores])\n",
    "print(f\"Standard deviation of RMSE: {round(std_rmse, 3)}\")"
   ]
  },
  {
   "cell_type": "code",
   "execution_count": 68,
   "id": "b002b39a-856a-4d0f-b8e2-f81480204562",
   "metadata": {},
   "outputs": [
    {
     "name": "stdout",
     "output_type": "stream",
     "text": [
      "RMSE on the test dataset: 599.61\n"
     ]
    }
   ],
   "source": [
    "# Set the seed for reproducibility\n",
    "seed = 9\n",
    "np.random.seed(seed)\n",
    "\n",
    "# Shuffle and split the data\n",
    "idx = np.arange(len(df_filtered))\n",
    "np.random.shuffle(idx)\n",
    "df_filtered = df_filtered.iloc[idx].reset_index(drop=True)\n",
    "\n",
    "# Split the data into train/validation/test (60%/20%/20%)\n",
    "n = len(df_filtered)\n",
    "n_val = int(n * 0.2)\n",
    "n_test = int(n * 0.2)\n",
    "n_train = n - n_val - n_test\n",
    "\n",
    "df_train = df_filtered.iloc[:n_train]\n",
    "df_val = df_filtered.iloc[n_train:n_train + n_val]\n",
    "df_test = df_filtered.iloc[n_train + n_val:]\n",
    "\n",
    "# Combine train and validation datasets\n",
    "df_combined = pd.concat([df_train, df_val])\n",
    "\n",
    "# Separate the target variable (Final Price)\n",
    "X_train_val = df_combined.drop(columns='final_price')\n",
    "y_train_val = df_combined['final_price']\n",
    "\n",
    "# Fill missing values with 0\n",
    "X_train_val = X_train_val.fillna(0)\n",
    "X_test = df_test.drop(columns='final_price').fillna(0)\n",
    "y_test = df_test['final_price']\n",
    "\n",
    "# Train Ridge regression model with r=0.001\n",
    "model = Ridge(alpha=0.001)\n",
    "model.fit(X_train_val, y_train_val)\n",
    "\n",
    "# Predict on test set\n",
    "y_pred = model.predict(X_test)\n",
    "\n",
    "# Calculate RMSE on the test dataset\n",
    "test_rmse = np.sqrt(mean_squared_error(y_test, y_pred))\n",
    "\n",
    "# Print the RMSE result\n",
    "print(f\"RMSE on the test dataset: {round(test_rmse, 2)}\")"
   ]
  },
  {
   "cell_type": "code",
   "execution_count": null,
   "id": "05deb10d-bf34-4136-8f2f-4efdc7f84120",
   "metadata": {},
   "outputs": [],
   "source": []
  }
 ],
 "metadata": {
  "kernelspec": {
   "display_name": "Python 3 (ipykernel)",
   "language": "python",
   "name": "python3"
  },
  "language_info": {
   "codemirror_mode": {
    "name": "ipython",
    "version": 3
   },
   "file_extension": ".py",
   "mimetype": "text/x-python",
   "name": "python",
   "nbconvert_exporter": "python",
   "pygments_lexer": "ipython3",
   "version": "3.12.4"
  }
 },
 "nbformat": 4,
 "nbformat_minor": 5
}
